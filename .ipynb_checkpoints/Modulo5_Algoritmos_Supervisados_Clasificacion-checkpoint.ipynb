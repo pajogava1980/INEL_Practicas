{
 "cells": [
  {
   "cell_type": "markdown",
   "id": "c883fe24",
   "metadata": {
    "slideshow": {
     "slide_type": "slide"
    }
   },
   "source": [
    "<img src=\"https://raw.githubusercontent.com/pelaokano/inel_ML/main/Modulo4/logo_inel.png\">\n",
    "<h1 align=\"center\">Machine Learning Aplicado a la Ingeniería Eléctrica</h1>\n",
    "\n",
    "<h2 align=\"center\">Modulo 5: Algoritmos Con Entrenamiento Supervisado: Clasificación</h2>\n",
    "\n",
    "<h3 align=\"center\">Innstructor: Adrian Alarcón Becerra</h3>"
   ]
  },
  {
   "cell_type": "markdown",
   "id": "a38d3d23",
   "metadata": {
    "slideshow": {
     "slide_type": "slide"
    }
   },
   "source": [
    "<img src=\"https://raw.githubusercontent.com/pelaokano/inel_ML/main/Modulo5/imagenes/pp1.JPG\">"
   ]
  },
  {
   "cell_type": "markdown",
   "id": "971f4de1",
   "metadata": {
    "slideshow": {
     "slide_type": "slide"
    }
   },
   "source": [
    "<img src=\"https://raw.githubusercontent.com/pelaokano/inel_ML/main/Modulo5/imagenes/pp2.JPG\">"
   ]
  },
  {
   "cell_type": "markdown",
   "id": "0eacf55f",
   "metadata": {
    "slideshow": {
     "slide_type": "slide"
    }
   },
   "source": [
    "<img src=\"https://raw.githubusercontent.com/pelaokano/inel_ML/main/Modulo5/imagenes/pp3.JPG\">"
   ]
  },
  {
   "cell_type": "markdown",
   "id": "db73ea85",
   "metadata": {
    "slideshow": {
     "slide_type": "slide"
    }
   },
   "source": [
    "<img src=\"https://raw.githubusercontent.com/pelaokano/inel_ML/main/Modulo5/imagenes/pp4.JPG\">"
   ]
  },
  {
   "cell_type": "markdown",
   "id": "5e069c85",
   "metadata": {
    "slideshow": {
     "slide_type": "slide"
    }
   },
   "source": [
    "<img src=\"https://raw.githubusercontent.com/pelaokano/inel_ML/main/Modulo5/imagenes/pp5.JPG\">"
   ]
  },
  {
   "cell_type": "markdown",
   "id": "5cb44cf3",
   "metadata": {
    "slideshow": {
     "slide_type": "slide"
    }
   },
   "source": [
    "<img src=\"https://raw.githubusercontent.com/pelaokano/inel_ML/main/Modulo5/imagenes/pp6.JPG\">"
   ]
  },
  {
   "cell_type": "markdown",
   "id": "93437e07",
   "metadata": {
    "slideshow": {
     "slide_type": "slide"
    }
   },
   "source": [
    "<img src=\"https://raw.githubusercontent.com/pelaokano/inel_ML/main/Modulo5/imagenes/pp7.JPG\">"
   ]
  },
  {
   "cell_type": "markdown",
   "id": "0698c151",
   "metadata": {
    "slideshow": {
     "slide_type": "slide"
    }
   },
   "source": [
    "<img src=\"https://raw.githubusercontent.com/pelaokano/inel_ML/main/Modulo5/imagenes/pp8.JPG\">"
   ]
  },
  {
   "cell_type": "markdown",
   "id": "cff93717",
   "metadata": {
    "slideshow": {
     "slide_type": "slide"
    }
   },
   "source": [
    "<img src=\"https://raw.githubusercontent.com/pelaokano/inel_ML/main/Modulo5/imagenes/pp9.JPG\">"
   ]
  },
  {
   "cell_type": "markdown",
   "id": "5afa312b",
   "metadata": {
    "slideshow": {
     "slide_type": "slide"
    }
   },
   "source": [
    "<img src=\"https://raw.githubusercontent.com/pelaokano/inel_ML/main/Modulo5/imagenes/pp10.JPG\">"
   ]
  },
  {
   "cell_type": "markdown",
   "id": "2ca1f31a",
   "metadata": {
    "slideshow": {
     "slide_type": "slide"
    }
   },
   "source": [
    "<img src=\"https://raw.githubusercontent.com/pelaokano/inel_ML/main/Modulo5/imagenes/pp11.JPG\">"
   ]
  },
  {
   "cell_type": "markdown",
   "id": "82bc658f",
   "metadata": {
    "slideshow": {
     "slide_type": "slide"
    }
   },
   "source": [
    "<img src=\"https://raw.githubusercontent.com/pelaokano/inel_ML/main/Modulo5/imagenes/pp12.JPG\">"
   ]
  },
  {
   "cell_type": "markdown",
   "id": "cb7c4b6f",
   "metadata": {
    "slideshow": {
     "slide_type": "slide"
    }
   },
   "source": [
    "<img src=\"https://raw.githubusercontent.com/pelaokano/inel_ML/main/Modulo5/imagenes/pp13.JPG\">"
   ]
  },
  {
   "cell_type": "markdown",
   "id": "a4bfb4a5",
   "metadata": {
    "slideshow": {
     "slide_type": "slide"
    }
   },
   "source": [
    "<img src=\"https://raw.githubusercontent.com/pelaokano/inel_ML/main/Modulo5/imagenes/pp14.JPG\">"
   ]
  },
  {
   "cell_type": "markdown",
   "id": "54c2656f",
   "metadata": {
    "slideshow": {
     "slide_type": "slide"
    }
   },
   "source": [
    "<img src=\"https://raw.githubusercontent.com/pelaokano/inel_ML/main/Modulo5/imagenes/pp15.JPG\">"
   ]
  },
  {
   "cell_type": "markdown",
   "id": "ca9730e8",
   "metadata": {
    "slideshow": {
     "slide_type": "slide"
    }
   },
   "source": [
    "<img src=\"https://raw.githubusercontent.com/pelaokano/inel_ML/main/Modulo5/imagenes/pp16.JPG\">"
   ]
  },
  {
   "cell_type": "markdown",
   "id": "9e32b90d",
   "metadata": {
    "slideshow": {
     "slide_type": "slide"
    }
   },
   "source": [
    "<img src=\"https://raw.githubusercontent.com/pelaokano/inel_ML/main/Modulo5/imagenes/pp17.JPG\">"
   ]
  },
  {
   "cell_type": "markdown",
   "id": "104e584d",
   "metadata": {
    "slideshow": {
     "slide_type": "slide"
    }
   },
   "source": [
    "<img src=\"https://raw.githubusercontent.com/pelaokano/inel_ML/main/Modulo5/imagenes/pp18.JPG\">"
   ]
  },
  {
   "cell_type": "markdown",
   "id": "6b164a64",
   "metadata": {
    "slideshow": {
     "slide_type": "slide"
    }
   },
   "source": [
    "<img src=\"https://raw.githubusercontent.com/pelaokano/inel_ML/main/Modulo5/imagenes/pp19.JPG\">"
   ]
  },
  {
   "cell_type": "markdown",
   "id": "24109df7",
   "metadata": {
    "slideshow": {
     "slide_type": "slide"
    }
   },
   "source": [
    "<img src=\"https://raw.githubusercontent.com/pelaokano/inel_ML/main/Modulo5/imagenes/pp20.JPG\">"
   ]
  },
  {
   "cell_type": "markdown",
   "id": "ec30fcff",
   "metadata": {
    "slideshow": {
     "slide_type": "slide"
    }
   },
   "source": [
    "<img src=\"https://raw.githubusercontent.com/pelaokano/inel_ML/main/Modulo5/imagenes/pp21.JPG\">"
   ]
  },
  {
   "cell_type": "markdown",
   "id": "2d772104",
   "metadata": {
    "slideshow": {
     "slide_type": "slide"
    }
   },
   "source": [
    "<img src=\"https://raw.githubusercontent.com/pelaokano/inel_ML/main/Modulo5/imagenes/pp22.JPG\">"
   ]
  },
  {
   "cell_type": "markdown",
   "id": "8cc2b2c4",
   "metadata": {
    "slideshow": {
     "slide_type": "slide"
    }
   },
   "source": [
    "<img src=\"https://raw.githubusercontent.com/pelaokano/inel_ML/main/Modulo5/imagenes/pp23.JPG\">"
   ]
  },
  {
   "cell_type": "markdown",
   "id": "eb1913c5",
   "metadata": {
    "slideshow": {
     "slide_type": "slide"
    }
   },
   "source": [
    "<img src=\"https://raw.githubusercontent.com/pelaokano/inel_ML/main/Modulo5/imagenes/pp24.JPG\">"
   ]
  },
  {
   "cell_type": "markdown",
   "id": "4ce0891a",
   "metadata": {
    "slideshow": {
     "slide_type": "slide"
    }
   },
   "source": [
    "<img src=\"https://raw.githubusercontent.com/pelaokano/inel_ML/main/Modulo5/imagenes/pp25.JPG\">"
   ]
  },
  {
   "cell_type": "markdown",
   "id": "4eb95fda",
   "metadata": {
    "slideshow": {
     "slide_type": "slide"
    }
   },
   "source": [
    "<img src=\"https://raw.githubusercontent.com/pelaokano/inel_ML/main/Modulo5/imagenes/pp26.JPG\">"
   ]
  }
 ],
 "metadata": {
  "celltoolbar": "Slideshow",
  "kernelspec": {
   "display_name": "Python 3 (ipykernel)",
   "language": "python",
   "name": "python3"
  },
  "language_info": {
   "codemirror_mode": {
    "name": "ipython",
    "version": 3
   },
   "file_extension": ".py",
   "mimetype": "text/x-python",
   "name": "python",
   "nbconvert_exporter": "python",
   "pygments_lexer": "ipython3",
   "version": "3.9.12"
  },
  "rise": {
   "theme": "serif"
  }
 },
 "nbformat": 4,
 "nbformat_minor": 5
}
