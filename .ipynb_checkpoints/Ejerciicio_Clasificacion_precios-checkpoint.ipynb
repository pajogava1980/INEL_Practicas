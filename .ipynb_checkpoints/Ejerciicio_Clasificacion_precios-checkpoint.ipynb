{
 "cells": [
  {
   "cell_type": "markdown",
   "metadata": {
    "id": "4W20TdtBxnoD"
   },
   "source": [
    "<img src=\"https://raw.githubusercontent.com/pelaokano/inel_ML/main/Modulo4/logo_inel.png\">\n",
    "\n",
    "<h1 align=\"center\">Machine Learning Aplicado a la Ingeniería Eléctrica</h1>\n",
    "\n",
    "<h2 align=\"center\">Ejercicio Clasificación</h2>"
   ]
  },
  {
   "cell_type": "markdown",
   "metadata": {
    "id": "ge5sje_OxnoE"
   },
   "source": [
    "# EJERCICIO\n",
    "# Aprendizaje supervisado: Clasificación.\n",
    "\n",
    "## *Clasificación binaria de precios de electricidad en el Mercado Diario*"
   ]
  },
  {
   "cell_type": "markdown",
   "metadata": {
    "id": "xAd2R1IYxnoF"
   },
   "source": [
    "**Objetivo:** Imaginando que estamos a medioados de 2020, predecir en qué horas el precio de la electricidad en el Mercado Diario será elevado, siendo la **clase 0** para valores menores a 40 €, y **clase 1** para valores mayores a 40 €.  Se utilizará el contexto y datos históricos del **2020** de la variable target que queremos clasificar y de otros atributos (features) que pueden ayudar a predecir modelo.\n",
    "\n",
    "\n",
    "Una técnica ampliamente adoptada para tratar conjuntos de datos muy desequilibrados se denomina remuestreo. Consiste en eliminar muestras de la clase mayoritaria (submuestreo) y/o añadir más ejemplos de la clase minoritaria (sobremuestreo).\n",
    "\n",
    "<img src=\"https://raw.githubusercontent.com/pelaokano/inel_ML/main/Modulo5/imagenes/ejercicio-clasificacion.png\" alt=\"Drawing\" style=\"width: 800px;\"/>\n",
    "\n",
    "\n",
    "\n",
    "### Antes de empezar:\n",
    "\n",
    "* En el archivo **precios.xlsx** se encuentra el conjunto de datos de entrada de este ejemplo (atributos + etiqueta). \n",
    "* Datos del 2 de enero 2020 al 26 de junio de 2020.\n",
    "\n",
    "\n",
    "# Pasos para crear un modelo de machine learning\n",
    "\n",
    "<img src=\"https://raw.githubusercontent.com/pelaokano/inel_ML/main/Modulo5/imagenes/creacion-modeloML.png\" alt=\"Drawing\" style=\"width: 800px;\"/>"
   ]
  },
  {
   "cell_type": "markdown",
   "metadata": {
    "id": "jx6749YwxnoF"
   },
   "source": [
    "## **1. Importar librerías y datos**\n"
   ]
  },
  {
   "cell_type": "code",
   "execution_count": 1,
   "metadata": {
    "id": "S4wNNZqgxnoF"
   },
   "outputs": [],
   "source": [
    "# Importamos las librerías\n",
    "import sklearn\n",
    "import pandas as pd\n",
    "import matplotlib.pyplot as plt\n",
    "import numpy as np\n",
    "import warnings\n",
    "warnings.filterwarnings('ignore')\n",
    "\n",
    "# Cargamos el conjunto de datos de entrada\n",
    "dataset=pd.read_excel('precios.xlsx')"
   ]
  },
  {
   "cell_type": "markdown",
   "metadata": {
    "id": "CZnvfdbzxnoG"
   },
   "source": [
    "## **2. Comprender los datos**\n",
    "\n",
    "Es necesario visualizar y comprender los datos con los que vamos a trabajar, así como conocer sus características. \n",
    "\n",
    "1. ¿Cuántos datos hay? ¿Cuántos atributos hay en los datos?  \n",
    "2. ¿Qué significan?\n",
    "3. ¿Falta algún dato?\n",
    "4. ¿Están balanceadas las etiquetas? \n",
    "4. Resumen estadístico del conjunto de datos de entrada."
   ]
  },
  {
   "cell_type": "markdown",
   "metadata": {
    "id": "7lbqTQwZxnoH"
   },
   "source": [
    "<div class=\"alert\">\n",
    "    <b> ¿Cuántos datos hay?¿Cuántos atributos hay en los datos? </b>\n",
    "</div>\n"
   ]
  },
  {
   "cell_type": "code",
   "execution_count": 2,
   "metadata": {
    "id": "cIl8zHcbxnoH"
   },
   "outputs": [
    {
     "data": {
      "text/plain": [
       "(4223, 14)"
      ]
     },
     "execution_count": 2,
     "metadata": {},
     "output_type": "execute_result"
    }
   ],
   "source": [
    "# Filasxcolumnas de los datos\n",
    "dataset.shape\n"
   ]
  },
  {
   "cell_type": "code",
   "execution_count": 3,
   "metadata": {
    "id": "Ad2D3y32xnoH"
   },
   "outputs": [
    {
     "data": {
      "text/html": [
       "<div>\n",
       "<style scoped>\n",
       "    .dataframe tbody tr th:only-of-type {\n",
       "        vertical-align: middle;\n",
       "    }\n",
       "\n",
       "    .dataframe tbody tr th {\n",
       "        vertical-align: top;\n",
       "    }\n",
       "\n",
       "    .dataframe thead th {\n",
       "        text-align: right;\n",
       "    }\n",
       "</style>\n",
       "<table border=\"1\" class=\"dataframe\">\n",
       "  <thead>\n",
       "    <tr style=\"text-align: right;\">\n",
       "      <th></th>\n",
       "      <th>hora</th>\n",
       "      <th>dia</th>\n",
       "      <th>mes</th>\n",
       "      <th>hidraul</th>\n",
       "      <th>eolica</th>\n",
       "      <th>demanda</th>\n",
       "      <th>ciclocomb</th>\n",
       "      <th>cogener</th>\n",
       "      <th>nuclear</th>\n",
       "      <th>carbon</th>\n",
       "      <th>biomas</th>\n",
       "      <th>precio-elect-dia-anterior</th>\n",
       "      <th>MIBGAS-dia-anterior</th>\n",
       "      <th>precio</th>\n",
       "    </tr>\n",
       "  </thead>\n",
       "  <tbody>\n",
       "    <tr>\n",
       "      <th>0</th>\n",
       "      <td>0</td>\n",
       "      <td>2</td>\n",
       "      <td>1</td>\n",
       "      <td>5221.1</td>\n",
       "      <td>1639.0</td>\n",
       "      <td>13290.5</td>\n",
       "      <td>2500.5</td>\n",
       "      <td>2493.8</td>\n",
       "      <td>7093.6</td>\n",
       "      <td>430.0</td>\n",
       "      <td>270</td>\n",
       "      <td>41.88</td>\n",
       "      <td>11.27</td>\n",
       "      <td>menor que  40 euros</td>\n",
       "    </tr>\n",
       "    <tr>\n",
       "      <th>1</th>\n",
       "      <td>1</td>\n",
       "      <td>2</td>\n",
       "      <td>1</td>\n",
       "      <td>4928.5</td>\n",
       "      <td>1568.4</td>\n",
       "      <td>12720.1</td>\n",
       "      <td>2411.5</td>\n",
       "      <td>2447.8</td>\n",
       "      <td>7091.6</td>\n",
       "      <td>430.0</td>\n",
       "      <td>243</td>\n",
       "      <td>38.60</td>\n",
       "      <td>11.27</td>\n",
       "      <td>menor que  40 euros</td>\n",
       "    </tr>\n",
       "    <tr>\n",
       "      <th>2</th>\n",
       "      <td>2</td>\n",
       "      <td>2</td>\n",
       "      <td>1</td>\n",
       "      <td>4860.3</td>\n",
       "      <td>1566.3</td>\n",
       "      <td>12558.6</td>\n",
       "      <td>2307.5</td>\n",
       "      <td>2446.6</td>\n",
       "      <td>7092.6</td>\n",
       "      <td>417.0</td>\n",
       "      <td>362</td>\n",
       "      <td>36.55</td>\n",
       "      <td>11.27</td>\n",
       "      <td>menor que  40 euros</td>\n",
       "    </tr>\n",
       "    <tr>\n",
       "      <th>3</th>\n",
       "      <td>3</td>\n",
       "      <td>2</td>\n",
       "      <td>1</td>\n",
       "      <td>4980.8</td>\n",
       "      <td>1781.5</td>\n",
       "      <td>12837.5</td>\n",
       "      <td>2307.5</td>\n",
       "      <td>2436.7</td>\n",
       "      <td>7092.6</td>\n",
       "      <td>387.0</td>\n",
       "      <td>369</td>\n",
       "      <td>32.32</td>\n",
       "      <td>11.27</td>\n",
       "      <td>menor que  40 euros</td>\n",
       "    </tr>\n",
       "    <tr>\n",
       "      <th>4</th>\n",
       "      <td>4</td>\n",
       "      <td>2</td>\n",
       "      <td>1</td>\n",
       "      <td>4984.3</td>\n",
       "      <td>1998.2</td>\n",
       "      <td>13100.9</td>\n",
       "      <td>2374.2</td>\n",
       "      <td>2448.3</td>\n",
       "      <td>7094.6</td>\n",
       "      <td>387.0</td>\n",
       "      <td>413</td>\n",
       "      <td>30.85</td>\n",
       "      <td>11.27</td>\n",
       "      <td>menor que  40 euros</td>\n",
       "    </tr>\n",
       "  </tbody>\n",
       "</table>\n",
       "</div>"
      ],
      "text/plain": [
       "   hora  dia  mes  hidraul  eolica  demanda  ciclocomb  cogener  nuclear  \\\n",
       "0     0    2    1   5221.1  1639.0  13290.5     2500.5   2493.8   7093.6   \n",
       "1     1    2    1   4928.5  1568.4  12720.1     2411.5   2447.8   7091.6   \n",
       "2     2    2    1   4860.3  1566.3  12558.6     2307.5   2446.6   7092.6   \n",
       "3     3    2    1   4980.8  1781.5  12837.5     2307.5   2436.7   7092.6   \n",
       "4     4    2    1   4984.3  1998.2  13100.9     2374.2   2448.3   7094.6   \n",
       "\n",
       "   carbon  biomas  precio-elect-dia-anterior  MIBGAS-dia-anterior  \\\n",
       "0   430.0     270                      41.88                11.27   \n",
       "1   430.0     243                      38.60                11.27   \n",
       "2   417.0     362                      36.55                11.27   \n",
       "3   387.0     369                      32.32                11.27   \n",
       "4   387.0     413                      30.85                11.27   \n",
       "\n",
       "                precio  \n",
       "0  menor que  40 euros  \n",
       "1  menor que  40 euros  \n",
       "2  menor que  40 euros  \n",
       "3  menor que  40 euros  \n",
       "4  menor que  40 euros  "
      ]
     },
     "execution_count": 3,
     "metadata": {},
     "output_type": "execute_result"
    }
   ],
   "source": [
    "# Observa las primeras 5 filas de los datos\n",
    "dataset.head()"
   ]
  },
  {
   "cell_type": "markdown",
   "metadata": {
    "id": "Oc5Ika_gxnoH"
   },
   "source": [
    "\n",
    "<div class=\"alert alert-success\">\n",
    "    <b> ¿Qué significan? </b>\n",
    "</div>\n",
    "\n",
    "* ***[Hora, Día, Mes]*** Hora, día y mes de cada una de las observaciones. Son valores enteros *int64*.\n",
    "\n",
    "* ***[Hidraul, Eolica, Ciclocomb, Cogener, Nuclear, Carbon, Biomas]*** se refiere a la energía programada horaria del programa PVP en el mercado diario por tipo de producción del día anterior.  Son valores reales *float*.\n",
    "\n",
    "* ***[Demanda]*** es la totalidad de energía programada en el mercado diario eléctrico en España el día anterior.  Son valores reales *float*.\n",
    "\n",
    "* ***[precio-elect-dia-anterior]*** precio de la electricidad el día anterior. Son valores reales *float*.\n",
    "\n",
    "* ***[MIBGAS-dia-anterior]*** precio del gas natural el día anterior. Son valores reales *float*.\n",
    "\n",
    "* ***[Clases]*** son las etiquetas de precio que queremos predecir. Son valores enteros *int64*.\n",
    "\n",
    "\n"
   ]
  },
  {
   "cell_type": "code",
   "execution_count": 4,
   "metadata": {
    "id": "q82quuowxnoI"
   },
   "outputs": [
    {
     "data": {
      "text/plain": [
       "hora                           int64\n",
       "dia                            int64\n",
       "mes                            int64\n",
       "hidraul                      float64\n",
       "eolica                       float64\n",
       "demanda                      float64\n",
       "ciclocomb                    float64\n",
       "cogener                      float64\n",
       "nuclear                      float64\n",
       "carbon                       float64\n",
       "biomas                         int64\n",
       "precio-elect-dia-anterior    float64\n",
       "MIBGAS-dia-anterior          float64\n",
       "precio                        object\n",
       "dtype: object"
      ]
     },
     "execution_count": 4,
     "metadata": {},
     "output_type": "execute_result"
    }
   ],
   "source": [
    "# Formato de los datos\n",
    "dataset.dtypes"
   ]
  },
  {
   "cell_type": "code",
   "execution_count": 5,
   "metadata": {},
   "outputs": [
    {
     "data": {
      "text/html": [
       "<div>\n",
       "<style scoped>\n",
       "    .dataframe tbody tr th:only-of-type {\n",
       "        vertical-align: middle;\n",
       "    }\n",
       "\n",
       "    .dataframe tbody tr th {\n",
       "        vertical-align: top;\n",
       "    }\n",
       "\n",
       "    .dataframe thead th {\n",
       "        text-align: right;\n",
       "    }\n",
       "</style>\n",
       "<table border=\"1\" class=\"dataframe\">\n",
       "  <thead>\n",
       "    <tr style=\"text-align: right;\">\n",
       "      <th></th>\n",
       "      <th>hora</th>\n",
       "      <th>dia</th>\n",
       "      <th>mes</th>\n",
       "      <th>hidraul</th>\n",
       "      <th>eolica</th>\n",
       "      <th>demanda</th>\n",
       "      <th>ciclocomb</th>\n",
       "      <th>cogener</th>\n",
       "      <th>nuclear</th>\n",
       "      <th>carbon</th>\n",
       "      <th>biomas</th>\n",
       "      <th>precio-elect-dia-anterior</th>\n",
       "      <th>MIBGAS-dia-anterior</th>\n",
       "    </tr>\n",
       "  </thead>\n",
       "  <tbody>\n",
       "    <tr>\n",
       "      <th>count</th>\n",
       "      <td>4223.000000</td>\n",
       "      <td>4223.000000</td>\n",
       "      <td>4223.000000</td>\n",
       "      <td>4223.000000</td>\n",
       "      <td>4223.000000</td>\n",
       "      <td>4220.000000</td>\n",
       "      <td>4223.000000</td>\n",
       "      <td>4223.000000</td>\n",
       "      <td>4223.000000</td>\n",
       "      <td>4220.000000</td>\n",
       "      <td>4223.000000</td>\n",
       "      <td>4223.000000</td>\n",
       "      <td>4223.000000</td>\n",
       "    </tr>\n",
       "    <tr>\n",
       "      <th>mean</th>\n",
       "      <td>11.502250</td>\n",
       "      <td>15.411556</td>\n",
       "      <td>3.443287</td>\n",
       "      <td>3090.683495</td>\n",
       "      <td>6142.901373</td>\n",
       "      <td>20223.538578</td>\n",
       "      <td>2337.097135</td>\n",
       "      <td>3059.788942</td>\n",
       "      <td>6019.210466</td>\n",
       "      <td>674.060308</td>\n",
       "      <td>374.144684</td>\n",
       "      <td>28.813694</td>\n",
       "      <td>8.288518</td>\n",
       "    </tr>\n",
       "    <tr>\n",
       "      <th>std</th>\n",
       "      <td>6.922282</td>\n",
       "      <td>8.598094</td>\n",
       "      <td>1.674775</td>\n",
       "      <td>1398.795645</td>\n",
       "      <td>3488.275912</td>\n",
       "      <td>3945.242127</td>\n",
       "      <td>1488.503359</td>\n",
       "      <td>282.994453</td>\n",
       "      <td>1212.068728</td>\n",
       "      <td>444.206117</td>\n",
       "      <td>102.061931</td>\n",
       "      <td>10.929161</td>\n",
       "      <td>2.347374</td>\n",
       "    </tr>\n",
       "    <tr>\n",
       "      <th>min</th>\n",
       "      <td>0.000000</td>\n",
       "      <td>1.000000</td>\n",
       "      <td>1.000000</td>\n",
       "      <td>856.600000</td>\n",
       "      <td>614.400000</td>\n",
       "      <td>0.000000</td>\n",
       "      <td>460.000000</td>\n",
       "      <td>1825.500000</td>\n",
       "      <td>3410.200000</td>\n",
       "      <td>0.000000</td>\n",
       "      <td>197.000000</td>\n",
       "      <td>1.020000</td>\n",
       "      <td>4.170000</td>\n",
       "    </tr>\n",
       "    <tr>\n",
       "      <th>25%</th>\n",
       "      <td>6.000000</td>\n",
       "      <td>8.000000</td>\n",
       "      <td>2.000000</td>\n",
       "      <td>1924.150000</td>\n",
       "      <td>3447.650000</td>\n",
       "      <td>17123.000000</td>\n",
       "      <td>1255.600000</td>\n",
       "      <td>2909.150000</td>\n",
       "      <td>4886.200000</td>\n",
       "      <td>413.000000</td>\n",
       "      <td>287.000000</td>\n",
       "      <td>21.080000</td>\n",
       "      <td>6.040000</td>\n",
       "    </tr>\n",
       "    <tr>\n",
       "      <th>50%</th>\n",
       "      <td>12.000000</td>\n",
       "      <td>15.000000</td>\n",
       "      <td>3.000000</td>\n",
       "      <td>2760.400000</td>\n",
       "      <td>5394.900000</td>\n",
       "      <td>20094.500000</td>\n",
       "      <td>1962.600000</td>\n",
       "      <td>3089.300000</td>\n",
       "      <td>6730.500000</td>\n",
       "      <td>530.000000</td>\n",
       "      <td>373.000000</td>\n",
       "      <td>28.410000</td>\n",
       "      <td>8.180000</td>\n",
       "    </tr>\n",
       "    <tr>\n",
       "      <th>75%</th>\n",
       "      <td>17.500000</td>\n",
       "      <td>23.000000</td>\n",
       "      <td>5.000000</td>\n",
       "      <td>4126.450000</td>\n",
       "      <td>8229.350000</td>\n",
       "      <td>22871.725000</td>\n",
       "      <td>2893.350000</td>\n",
       "      <td>3238.150000</td>\n",
       "      <td>7089.500000</td>\n",
       "      <td>973.000000</td>\n",
       "      <td>462.000000</td>\n",
       "      <td>36.670000</td>\n",
       "      <td>9.975000</td>\n",
       "    </tr>\n",
       "    <tr>\n",
       "      <th>max</th>\n",
       "      <td>23.000000</td>\n",
       "      <td>31.000000</td>\n",
       "      <td>6.000000</td>\n",
       "      <td>7411.900000</td>\n",
       "      <td>18996.300000</td>\n",
       "      <td>35458.900000</td>\n",
       "      <td>9078.400000</td>\n",
       "      <td>3696.800000</td>\n",
       "      <td>7100.500000</td>\n",
       "      <td>2065.000000</td>\n",
       "      <td>551.000000</td>\n",
       "      <td>62.480000</td>\n",
       "      <td>14.480000</td>\n",
       "    </tr>\n",
       "  </tbody>\n",
       "</table>\n",
       "</div>"
      ],
      "text/plain": [
       "              hora          dia          mes      hidraul        eolica  \\\n",
       "count  4223.000000  4223.000000  4223.000000  4223.000000   4223.000000   \n",
       "mean     11.502250    15.411556     3.443287  3090.683495   6142.901373   \n",
       "std       6.922282     8.598094     1.674775  1398.795645   3488.275912   \n",
       "min       0.000000     1.000000     1.000000   856.600000    614.400000   \n",
       "25%       6.000000     8.000000     2.000000  1924.150000   3447.650000   \n",
       "50%      12.000000    15.000000     3.000000  2760.400000   5394.900000   \n",
       "75%      17.500000    23.000000     5.000000  4126.450000   8229.350000   \n",
       "max      23.000000    31.000000     6.000000  7411.900000  18996.300000   \n",
       "\n",
       "            demanda    ciclocomb      cogener      nuclear       carbon  \\\n",
       "count   4220.000000  4223.000000  4223.000000  4223.000000  4220.000000   \n",
       "mean   20223.538578  2337.097135  3059.788942  6019.210466   674.060308   \n",
       "std     3945.242127  1488.503359   282.994453  1212.068728   444.206117   \n",
       "min        0.000000   460.000000  1825.500000  3410.200000     0.000000   \n",
       "25%    17123.000000  1255.600000  2909.150000  4886.200000   413.000000   \n",
       "50%    20094.500000  1962.600000  3089.300000  6730.500000   530.000000   \n",
       "75%    22871.725000  2893.350000  3238.150000  7089.500000   973.000000   \n",
       "max    35458.900000  9078.400000  3696.800000  7100.500000  2065.000000   \n",
       "\n",
       "            biomas  precio-elect-dia-anterior  MIBGAS-dia-anterior  \n",
       "count  4223.000000                4223.000000          4223.000000  \n",
       "mean    374.144684                  28.813694             8.288518  \n",
       "std     102.061931                  10.929161             2.347374  \n",
       "min     197.000000                   1.020000             4.170000  \n",
       "25%     287.000000                  21.080000             6.040000  \n",
       "50%     373.000000                  28.410000             8.180000  \n",
       "75%     462.000000                  36.670000             9.975000  \n",
       "max     551.000000                  62.480000            14.480000  "
      ]
     },
     "execution_count": 5,
     "metadata": {},
     "output_type": "execute_result"
    }
   ],
   "source": [
    "dataset.describe()"
   ]
  },
  {
   "cell_type": "code",
   "execution_count": 6,
   "metadata": {},
   "outputs": [
    {
     "name": "stdout",
     "output_type": "stream",
     "text": [
      "<class 'pandas.core.frame.DataFrame'>\n",
      "RangeIndex: 4223 entries, 0 to 4222\n",
      "Data columns (total 14 columns):\n",
      " #   Column                     Non-Null Count  Dtype  \n",
      "---  ------                     --------------  -----  \n",
      " 0   hora                       4223 non-null   int64  \n",
      " 1   dia                        4223 non-null   int64  \n",
      " 2   mes                        4223 non-null   int64  \n",
      " 3   hidraul                    4223 non-null   float64\n",
      " 4   eolica                     4223 non-null   float64\n",
      " 5   demanda                    4220 non-null   float64\n",
      " 6   ciclocomb                  4223 non-null   float64\n",
      " 7   cogener                    4223 non-null   float64\n",
      " 8   nuclear                    4223 non-null   float64\n",
      " 9   carbon                     4220 non-null   float64\n",
      " 10  biomas                     4223 non-null   int64  \n",
      " 11  precio-elect-dia-anterior  4223 non-null   float64\n",
      " 12  MIBGAS-dia-anterior        4223 non-null   float64\n",
      " 13  precio                     4223 non-null   object \n",
      "dtypes: float64(9), int64(4), object(1)\n",
      "memory usage: 462.0+ KB\n"
     ]
    }
   ],
   "source": [
    "dataset.info()"
   ]
  },
  {
   "cell_type": "markdown",
   "metadata": {
    "id": "7blw4LSrxnoI"
   },
   "source": [
    "<div class=\"alert alert-success\">\n",
    "    <b> ¿Falta algún dato? De ser así, indica cuántos y en que atributo </b>\n",
    "</div>\n",
    "\n",
    "\n"
   ]
  },
  {
   "cell_type": "code",
   "execution_count": 7,
   "metadata": {
    "id": "48HVsnJIxnoI"
   },
   "outputs": [
    {
     "data": {
      "text/plain": [
       "hora                         0\n",
       "dia                          0\n",
       "mes                          0\n",
       "hidraul                      0\n",
       "eolica                       0\n",
       "demanda                      3\n",
       "ciclocomb                    0\n",
       "cogener                      0\n",
       "nuclear                      0\n",
       "carbon                       3\n",
       "biomas                       0\n",
       "precio-elect-dia-anterior    0\n",
       "MIBGAS-dia-anterior          0\n",
       "precio                       0\n",
       "dtype: int64"
      ]
     },
     "execution_count": 7,
     "metadata": {},
     "output_type": "execute_result"
    }
   ],
   "source": [
    "# Comprobar si falta algún dato y en qué atributo\n",
    "dataset.isna().sum()"
   ]
  },
  {
   "cell_type": "markdown",
   "metadata": {
    "id": "iFrDm_XXxnoI"
   },
   "source": [
    "<div class=\"alert alert-success\">\n",
    "    <b> ¿Están balanceadas las etiquetas? </b>\n",
    "</div>\n"
   ]
  },
  {
   "cell_type": "code",
   "execution_count": 8,
   "metadata": {
    "id": "deeLYCUyxnoI"
   },
   "outputs": [
    {
     "name": "stdout",
     "output_type": "stream",
     "text": [
      "menor que  40 euros    3507\n",
      "mayor que  40 euros     716\n",
      "Name: precio, dtype: int64\n"
     ]
    },
    {
     "data": {
      "text/plain": [
       "<AxesSubplot:ylabel='precio'>"
      ]
     },
     "execution_count": 8,
     "metadata": {},
     "output_type": "execute_result"
    },
    {
     "data": {
      "image/png": "[encoded data removed]",
      "text/plain": [
       "<Figure size 432x288 with 1 Axes>"
      ]
     },
     "metadata": {},
     "output_type": "display_data"
    }
   ],
   "source": [
    "# Comprobar si las etiquetas están desvalanceadas\n",
    "balance_clases = dataset['precio'].value_counts()\n",
    "print(balance_clases)\n",
    "\n",
    "# Gráfico del balance de clases\n",
    "balance_clases.plot.pie()"
   ]
  },
  {
   "cell_type": "markdown",
   "metadata": {
    "id": "--SEK75XxnoJ"
   },
   "source": [
    "### Resampling \n",
    "\n",
    "Una técnica ampliamente adoptada para tratar conjuntos de datos muy desequilibrados se denomina remuestreo. Consiste en eliminar muestras de la clase mayoritaria (submuestreo) y/o añadir más ejemplos de la clase minoritaria (sobremuestreo).\n",
    "\n",
    "<img src=\"https://github.com/sbarja/curso-intro-machine-learning-2023/blob/main/figuras/resampling.png?raw=1\" alt=\"Drawing\" style=\"width: 800px;\"/>"
   ]
  },
  {
   "cell_type": "markdown",
   "metadata": {
    "id": "54z5yp4DxnoJ"
   },
   "source": [
    "<div class=\"alert alert-success\">\n",
    "    <b> Oversampling de la clase minoritaria </b>\n",
    "</div>\n",
    "\n",
    "\n",
    "El sobremuestreo puede definirse como añadir más copias de la clase minoritaria. El sobremuestreo puede ser una buena opción cuando no se tiene muchos datos con los que trabajar.\n",
    "\n",
    "Utilizaremos el módulo de remuestreo de Scikit-Learn para replicar aleatoriamente muestras de la clase minoritaria."
   ]
  },
  {
   "cell_type": "code",
   "execution_count": 9,
   "metadata": {
    "id": "75o0MkdxxnoJ"
   },
   "outputs": [],
   "source": [
    "\n",
    "df_majority  = dataset[dataset['precio'] == 'menor que  40 euros']\n",
    "df_minority  = dataset[dataset['precio'] == 'mayor que  40 euros']\n"
   ]
  },
  {
   "cell_type": "code",
   "execution_count": 10,
   "metadata": {
    "id": "Ta5jqDU-xnoJ"
   },
   "outputs": [
    {
     "data": {
      "text/html": [
       "<div>\n",
       "<style scoped>\n",
       "    .dataframe tbody tr th:only-of-type {\n",
       "        vertical-align: middle;\n",
       "    }\n",
       "\n",
       "    .dataframe tbody tr th {\n",
       "        vertical-align: top;\n",
       "    }\n",
       "\n",
       "    .dataframe thead th {\n",
       "        text-align: right;\n",
       "    }\n",
       "</style>\n",
       "<table border=\"1\" class=\"dataframe\">\n",
       "  <thead>\n",
       "    <tr style=\"text-align: right;\">\n",
       "      <th></th>\n",
       "      <th>hora</th>\n",
       "      <th>dia</th>\n",
       "      <th>mes</th>\n",
       "      <th>hidraul</th>\n",
       "      <th>eolica</th>\n",
       "      <th>demanda</th>\n",
       "      <th>ciclocomb</th>\n",
       "      <th>cogener</th>\n",
       "      <th>nuclear</th>\n",
       "      <th>carbon</th>\n",
       "      <th>biomas</th>\n",
       "      <th>precio-elect-dia-anterior</th>\n",
       "      <th>MIBGAS-dia-anterior</th>\n",
       "      <th>precio</th>\n",
       "    </tr>\n",
       "  </thead>\n",
       "  <tbody>\n",
       "    <tr>\n",
       "      <th>7</th>\n",
       "      <td>7</td>\n",
       "      <td>2</td>\n",
       "      <td>1</td>\n",
       "      <td>5017.1</td>\n",
       "      <td>1913.8</td>\n",
       "      <td>13248.3</td>\n",
       "      <td>2345.1</td>\n",
       "      <td>2480.7</td>\n",
       "      <td>7094.6</td>\n",
       "      <td>387.0</td>\n",
       "      <td>354</td>\n",
       "      <td>30.00</td>\n",
       "      <td>11.27</td>\n",
       "      <td>mayor que  40 euros</td>\n",
       "    </tr>\n",
       "    <tr>\n",
       "      <th>8</th>\n",
       "      <td>8</td>\n",
       "      <td>2</td>\n",
       "      <td>1</td>\n",
       "      <td>5260.7</td>\n",
       "      <td>1704.3</td>\n",
       "      <td>13628.5</td>\n",
       "      <td>2307.5</td>\n",
       "      <td>2473.1</td>\n",
       "      <td>7093.6</td>\n",
       "      <td>387.0</td>\n",
       "      <td>477</td>\n",
       "      <td>30.65</td>\n",
       "      <td>11.27</td>\n",
       "      <td>mayor que  40 euros</td>\n",
       "    </tr>\n",
       "    <tr>\n",
       "      <th>9</th>\n",
       "      <td>9</td>\n",
       "      <td>2</td>\n",
       "      <td>1</td>\n",
       "      <td>5330.8</td>\n",
       "      <td>1539.4</td>\n",
       "      <td>14256.6</td>\n",
       "      <td>2307.5</td>\n",
       "      <td>2491.2</td>\n",
       "      <td>7093.6</td>\n",
       "      <td>387.0</td>\n",
       "      <td>450</td>\n",
       "      <td>30.65</td>\n",
       "      <td>11.27</td>\n",
       "      <td>mayor que  40 euros</td>\n",
       "    </tr>\n",
       "    <tr>\n",
       "      <th>10</th>\n",
       "      <td>10</td>\n",
       "      <td>2</td>\n",
       "      <td>1</td>\n",
       "      <td>5658.3</td>\n",
       "      <td>1353.4</td>\n",
       "      <td>15053.8</td>\n",
       "      <td>1977.5</td>\n",
       "      <td>2522.9</td>\n",
       "      <td>7094.6</td>\n",
       "      <td>387.0</td>\n",
       "      <td>427</td>\n",
       "      <td>30.27</td>\n",
       "      <td>11.27</td>\n",
       "      <td>mayor que  40 euros</td>\n",
       "    </tr>\n",
       "    <tr>\n",
       "      <th>11</th>\n",
       "      <td>11</td>\n",
       "      <td>2</td>\n",
       "      <td>1</td>\n",
       "      <td>5689.7</td>\n",
       "      <td>1137.9</td>\n",
       "      <td>15410.5</td>\n",
       "      <td>1977.5</td>\n",
       "      <td>2542.8</td>\n",
       "      <td>7093.6</td>\n",
       "      <td>387.0</td>\n",
       "      <td>219</td>\n",
       "      <td>30.34</td>\n",
       "      <td>11.27</td>\n",
       "      <td>mayor que  40 euros</td>\n",
       "    </tr>\n",
       "    <tr>\n",
       "      <th>...</th>\n",
       "      <td>...</td>\n",
       "      <td>...</td>\n",
       "      <td>...</td>\n",
       "      <td>...</td>\n",
       "      <td>...</td>\n",
       "      <td>...</td>\n",
       "      <td>...</td>\n",
       "      <td>...</td>\n",
       "      <td>...</td>\n",
       "      <td>...</td>\n",
       "      <td>...</td>\n",
       "      <td>...</td>\n",
       "      <td>...</td>\n",
       "      <td>...</td>\n",
       "    </tr>\n",
       "    <tr>\n",
       "      <th>4196</th>\n",
       "      <td>21</td>\n",
       "      <td>24</td>\n",
       "      <td>6</td>\n",
       "      <td>3510.8</td>\n",
       "      <td>4823.3</td>\n",
       "      <td>28716.8</td>\n",
       "      <td>6307.5</td>\n",
       "      <td>3160.6</td>\n",
       "      <td>5810.5</td>\n",
       "      <td>423.0</td>\n",
       "      <td>288</td>\n",
       "      <td>38.69</td>\n",
       "      <td>6.96</td>\n",
       "      <td>mayor que  40 euros</td>\n",
       "    </tr>\n",
       "    <tr>\n",
       "      <th>4199</th>\n",
       "      <td>0</td>\n",
       "      <td>26</td>\n",
       "      <td>6</td>\n",
       "      <td>3309.8</td>\n",
       "      <td>3444.1</td>\n",
       "      <td>24964.5</td>\n",
       "      <td>4861.9</td>\n",
       "      <td>3050.6</td>\n",
       "      <td>5068.2</td>\n",
       "      <td>432.0</td>\n",
       "      <td>387</td>\n",
       "      <td>40.75</td>\n",
       "      <td>7.28</td>\n",
       "      <td>mayor que  40 euros</td>\n",
       "    </tr>\n",
       "    <tr>\n",
       "      <th>4207</th>\n",
       "      <td>8</td>\n",
       "      <td>26</td>\n",
       "      <td>6</td>\n",
       "      <td>4516.6</td>\n",
       "      <td>1816.4</td>\n",
       "      <td>26802.2</td>\n",
       "      <td>7006.5</td>\n",
       "      <td>3157.7</td>\n",
       "      <td>5070.2</td>\n",
       "      <td>504.5</td>\n",
       "      <td>498</td>\n",
       "      <td>42.09</td>\n",
       "      <td>7.28</td>\n",
       "      <td>mayor que  40 euros</td>\n",
       "    </tr>\n",
       "    <tr>\n",
       "      <th>4219</th>\n",
       "      <td>20</td>\n",
       "      <td>26</td>\n",
       "      <td>6</td>\n",
       "      <td>4479.3</td>\n",
       "      <td>3828.2</td>\n",
       "      <td>29025.5</td>\n",
       "      <td>7130.7</td>\n",
       "      <td>3203.2</td>\n",
       "      <td>5063.4</td>\n",
       "      <td>946.0</td>\n",
       "      <td>453</td>\n",
       "      <td>41.23</td>\n",
       "      <td>7.28</td>\n",
       "      <td>mayor que  40 euros</td>\n",
       "    </tr>\n",
       "    <tr>\n",
       "      <th>4221</th>\n",
       "      <td>22</td>\n",
       "      <td>26</td>\n",
       "      <td>6</td>\n",
       "      <td>3529.7</td>\n",
       "      <td>3780.1</td>\n",
       "      <td>28711.2</td>\n",
       "      <td>6745.1</td>\n",
       "      <td>3215.0</td>\n",
       "      <td>5064.4</td>\n",
       "      <td>946.0</td>\n",
       "      <td>424</td>\n",
       "      <td>40.10</td>\n",
       "      <td>7.28</td>\n",
       "      <td>mayor que  40 euros</td>\n",
       "    </tr>\n",
       "  </tbody>\n",
       "</table>\n",
       "<p>716 rows × 14 columns</p>\n",
       "</div>"
      ],
      "text/plain": [
       "      hora  dia  mes  hidraul  eolica  demanda  ciclocomb  cogener  nuclear  \\\n",
       "7        7    2    1   5017.1  1913.8  13248.3     2345.1   2480.7   7094.6   \n",
       "8        8    2    1   5260.7  1704.3  13628.5     2307.5   2473.1   7093.6   \n",
       "9        9    2    1   5330.8  1539.4  14256.6     2307.5   2491.2   7093.6   \n",
       "10      10    2    1   5658.3  1353.4  15053.8     1977.5   2522.9   7094.6   \n",
       "11      11    2    1   5689.7  1137.9  15410.5     1977.5   2542.8   7093.6   \n",
       "...    ...  ...  ...      ...     ...      ...        ...      ...      ...   \n",
       "4196    21   24    6   3510.8  4823.3  28716.8     6307.5   3160.6   5810.5   \n",
       "4199     0   26    6   3309.8  3444.1  24964.5     4861.9   3050.6   5068.2   \n",
       "4207     8   26    6   4516.6  1816.4  26802.2     7006.5   3157.7   5070.2   \n",
       "4219    20   26    6   4479.3  3828.2  29025.5     7130.7   3203.2   5063.4   \n",
       "4221    22   26    6   3529.7  3780.1  28711.2     6745.1   3215.0   5064.4   \n",
       "\n",
       "      carbon  biomas  precio-elect-dia-anterior  MIBGAS-dia-anterior  \\\n",
       "7      387.0     354                      30.00                11.27   \n",
       "8      387.0     477                      30.65                11.27   \n",
       "9      387.0     450                      30.65                11.27   \n",
       "10     387.0     427                      30.27                11.27   \n",
       "11     387.0     219                      30.34                11.27   \n",
       "...      ...     ...                        ...                  ...   \n",
       "4196   423.0     288                      38.69                 6.96   \n",
       "4199   432.0     387                      40.75                 7.28   \n",
       "4207   504.5     498                      42.09                 7.28   \n",
       "4219   946.0     453                      41.23                 7.28   \n",
       "4221   946.0     424                      40.10                 7.28   \n",
       "\n",
       "                   precio  \n",
       "7     mayor que  40 euros  \n",
       "8     mayor que  40 euros  \n",
       "9     mayor que  40 euros  \n",
       "10    mayor que  40 euros  \n",
       "11    mayor que  40 euros  \n",
       "...                   ...  \n",
       "4196  mayor que  40 euros  \n",
       "4199  mayor que  40 euros  \n",
       "4207  mayor que  40 euros  \n",
       "4219  mayor que  40 euros  \n",
       "4221  mayor que  40 euros  \n",
       "\n",
       "[716 rows x 14 columns]"
      ]
     },
     "execution_count": 10,
     "metadata": {},
     "output_type": "execute_result"
    }
   ],
   "source": [
    "df_minority"
   ]
  },
  {
   "cell_type": "code",
   "execution_count": 11,
   "metadata": {
    "id": "G3fz3ONixnoJ"
   },
   "outputs": [],
   "source": [
    "from sklearn.utils import resample\n",
    "\n",
    "# upsample minority\n",
    "df_minority_upsampled = resample(df_minority,\n",
    "                          replace=True, # sample with replacement\n",
    "                          n_samples=len(df_majority), # match number in minority class\n",
    "                          random_state=27) # Set random seed for reproducibility\n",
    "\n",
    "# Combine the upsampled minority class with the majority class\n",
    "df_upsampled = pd.concat([df_majority, df_minority_upsampled])\n"
   ]
  },
  {
   "cell_type": "code",
   "execution_count": 12,
   "metadata": {
    "id": "Qx8WAgQ4xnoJ"
   },
   "outputs": [
    {
     "data": {
      "text/html": [
       "<div>\n",
       "<style scoped>\n",
       "    .dataframe tbody tr th:only-of-type {\n",
       "        vertical-align: middle;\n",
       "    }\n",
       "\n",
       "    .dataframe tbody tr th {\n",
       "        vertical-align: top;\n",
       "    }\n",
       "\n",
       "    .dataframe thead th {\n",
       "        text-align: right;\n",
       "    }\n",
       "</style>\n",
       "<table border=\"1\" class=\"dataframe\">\n",
       "  <thead>\n",
       "    <tr style=\"text-align: right;\">\n",
       "      <th></th>\n",
       "      <th>hora</th>\n",
       "      <th>dia</th>\n",
       "      <th>mes</th>\n",
       "      <th>hidraul</th>\n",
       "      <th>eolica</th>\n",
       "      <th>demanda</th>\n",
       "      <th>ciclocomb</th>\n",
       "      <th>cogener</th>\n",
       "      <th>nuclear</th>\n",
       "      <th>carbon</th>\n",
       "      <th>biomas</th>\n",
       "      <th>precio-elect-dia-anterior</th>\n",
       "      <th>MIBGAS-dia-anterior</th>\n",
       "      <th>precio</th>\n",
       "    </tr>\n",
       "  </thead>\n",
       "  <tbody>\n",
       "    <tr>\n",
       "      <th>0</th>\n",
       "      <td>0</td>\n",
       "      <td>2</td>\n",
       "      <td>1</td>\n",
       "      <td>5221.1</td>\n",
       "      <td>1639.0</td>\n",
       "      <td>13290.5</td>\n",
       "      <td>2500.5</td>\n",
       "      <td>2493.8</td>\n",
       "      <td>7093.6</td>\n",
       "      <td>430.0</td>\n",
       "      <td>270</td>\n",
       "      <td>41.88</td>\n",
       "      <td>11.27</td>\n",
       "      <td>menor que  40 euros</td>\n",
       "    </tr>\n",
       "    <tr>\n",
       "      <th>1</th>\n",
       "      <td>1</td>\n",
       "      <td>2</td>\n",
       "      <td>1</td>\n",
       "      <td>4928.5</td>\n",
       "      <td>1568.4</td>\n",
       "      <td>12720.1</td>\n",
       "      <td>2411.5</td>\n",
       "      <td>2447.8</td>\n",
       "      <td>7091.6</td>\n",
       "      <td>430.0</td>\n",
       "      <td>243</td>\n",
       "      <td>38.60</td>\n",
       "      <td>11.27</td>\n",
       "      <td>menor que  40 euros</td>\n",
       "    </tr>\n",
       "    <tr>\n",
       "      <th>2</th>\n",
       "      <td>2</td>\n",
       "      <td>2</td>\n",
       "      <td>1</td>\n",
       "      <td>4860.3</td>\n",
       "      <td>1566.3</td>\n",
       "      <td>12558.6</td>\n",
       "      <td>2307.5</td>\n",
       "      <td>2446.6</td>\n",
       "      <td>7092.6</td>\n",
       "      <td>417.0</td>\n",
       "      <td>362</td>\n",
       "      <td>36.55</td>\n",
       "      <td>11.27</td>\n",
       "      <td>menor que  40 euros</td>\n",
       "    </tr>\n",
       "    <tr>\n",
       "      <th>3</th>\n",
       "      <td>3</td>\n",
       "      <td>2</td>\n",
       "      <td>1</td>\n",
       "      <td>4980.8</td>\n",
       "      <td>1781.5</td>\n",
       "      <td>12837.5</td>\n",
       "      <td>2307.5</td>\n",
       "      <td>2436.7</td>\n",
       "      <td>7092.6</td>\n",
       "      <td>387.0</td>\n",
       "      <td>369</td>\n",
       "      <td>32.32</td>\n",
       "      <td>11.27</td>\n",
       "      <td>menor que  40 euros</td>\n",
       "    </tr>\n",
       "    <tr>\n",
       "      <th>4</th>\n",
       "      <td>4</td>\n",
       "      <td>2</td>\n",
       "      <td>1</td>\n",
       "      <td>4984.3</td>\n",
       "      <td>1998.2</td>\n",
       "      <td>13100.9</td>\n",
       "      <td>2374.2</td>\n",
       "      <td>2448.3</td>\n",
       "      <td>7094.6</td>\n",
       "      <td>387.0</td>\n",
       "      <td>413</td>\n",
       "      <td>30.85</td>\n",
       "      <td>11.27</td>\n",
       "      <td>menor que  40 euros</td>\n",
       "    </tr>\n",
       "    <tr>\n",
       "      <th>...</th>\n",
       "      <td>...</td>\n",
       "      <td>...</td>\n",
       "      <td>...</td>\n",
       "      <td>...</td>\n",
       "      <td>...</td>\n",
       "      <td>...</td>\n",
       "      <td>...</td>\n",
       "      <td>...</td>\n",
       "      <td>...</td>\n",
       "      <td>...</td>\n",
       "      <td>...</td>\n",
       "      <td>...</td>\n",
       "      <td>...</td>\n",
       "      <td>...</td>\n",
       "    </tr>\n",
       "    <tr>\n",
       "      <th>537</th>\n",
       "      <td>9</td>\n",
       "      <td>24</td>\n",
       "      <td>1</td>\n",
       "      <td>6967.4</td>\n",
       "      <td>2849.2</td>\n",
       "      <td>26544.7</td>\n",
       "      <td>9078.4</td>\n",
       "      <td>3533.2</td>\n",
       "      <td>7096.5</td>\n",
       "      <td>1706.8</td>\n",
       "      <td>521</td>\n",
       "      <td>60.98</td>\n",
       "      <td>13.70</td>\n",
       "      <td>mayor que  40 euros</td>\n",
       "    </tr>\n",
       "    <tr>\n",
       "      <th>1192</th>\n",
       "      <td>16</td>\n",
       "      <td>20</td>\n",
       "      <td>2</td>\n",
       "      <td>3683.9</td>\n",
       "      <td>2876.0</td>\n",
       "      <td>22905.6</td>\n",
       "      <td>5507.4</td>\n",
       "      <td>3424.1</td>\n",
       "      <td>7086.0</td>\n",
       "      <td>1300.0</td>\n",
       "      <td>205</td>\n",
       "      <td>42.77</td>\n",
       "      <td>11.12</td>\n",
       "      <td>mayor que  40 euros</td>\n",
       "    </tr>\n",
       "    <tr>\n",
       "      <th>586</th>\n",
       "      <td>10</td>\n",
       "      <td>26</td>\n",
       "      <td>1</td>\n",
       "      <td>4991.0</td>\n",
       "      <td>2343.4</td>\n",
       "      <td>21026.6</td>\n",
       "      <td>5760.3</td>\n",
       "      <td>3268.5</td>\n",
       "      <td>7098.4</td>\n",
       "      <td>1493.0</td>\n",
       "      <td>390</td>\n",
       "      <td>48.42</td>\n",
       "      <td>11.65</td>\n",
       "      <td>mayor que  40 euros</td>\n",
       "    </tr>\n",
       "    <tr>\n",
       "      <th>576</th>\n",
       "      <td>0</td>\n",
       "      <td>26</td>\n",
       "      <td>1</td>\n",
       "      <td>4396.3</td>\n",
       "      <td>3018.6</td>\n",
       "      <td>19235.6</td>\n",
       "      <td>3118.8</td>\n",
       "      <td>3368.7</td>\n",
       "      <td>7098.4</td>\n",
       "      <td>1459.0</td>\n",
       "      <td>383</td>\n",
       "      <td>51.92</td>\n",
       "      <td>11.65</td>\n",
       "      <td>mayor que  40 euros</td>\n",
       "    </tr>\n",
       "    <tr>\n",
       "      <th>612</th>\n",
       "      <td>12</td>\n",
       "      <td>27</td>\n",
       "      <td>1</td>\n",
       "      <td>2037.2</td>\n",
       "      <td>7244.0</td>\n",
       "      <td>19629.0</td>\n",
       "      <td>2693.8</td>\n",
       "      <td>3093.3</td>\n",
       "      <td>7096.2</td>\n",
       "      <td>980.0</td>\n",
       "      <td>297</td>\n",
       "      <td>41.86</td>\n",
       "      <td>11.20</td>\n",
       "      <td>mayor que  40 euros</td>\n",
       "    </tr>\n",
       "  </tbody>\n",
       "</table>\n",
       "<p>7014 rows × 14 columns</p>\n",
       "</div>"
      ],
      "text/plain": [
       "      hora  dia  mes  hidraul  eolica  demanda  ciclocomb  cogener  nuclear  \\\n",
       "0        0    2    1   5221.1  1639.0  13290.5     2500.5   2493.8   7093.6   \n",
       "1        1    2    1   4928.5  1568.4  12720.1     2411.5   2447.8   7091.6   \n",
       "2        2    2    1   4860.3  1566.3  12558.6     2307.5   2446.6   7092.6   \n",
       "3        3    2    1   4980.8  1781.5  12837.5     2307.5   2436.7   7092.6   \n",
       "4        4    2    1   4984.3  1998.2  13100.9     2374.2   2448.3   7094.6   \n",
       "...    ...  ...  ...      ...     ...      ...        ...      ...      ...   \n",
       "537      9   24    1   6967.4  2849.2  26544.7     9078.4   3533.2   7096.5   \n",
       "1192    16   20    2   3683.9  2876.0  22905.6     5507.4   3424.1   7086.0   \n",
       "586     10   26    1   4991.0  2343.4  21026.6     5760.3   3268.5   7098.4   \n",
       "576      0   26    1   4396.3  3018.6  19235.6     3118.8   3368.7   7098.4   \n",
       "612     12   27    1   2037.2  7244.0  19629.0     2693.8   3093.3   7096.2   \n",
       "\n",
       "      carbon  biomas  precio-elect-dia-anterior  MIBGAS-dia-anterior  \\\n",
       "0      430.0     270                      41.88                11.27   \n",
       "1      430.0     243                      38.60                11.27   \n",
       "2      417.0     362                      36.55                11.27   \n",
       "3      387.0     369                      32.32                11.27   \n",
       "4      387.0     413                      30.85                11.27   \n",
       "...      ...     ...                        ...                  ...   \n",
       "537   1706.8     521                      60.98                13.70   \n",
       "1192  1300.0     205                      42.77                11.12   \n",
       "586   1493.0     390                      48.42                11.65   \n",
       "576   1459.0     383                      51.92                11.65   \n",
       "612    980.0     297                      41.86                11.20   \n",
       "\n",
       "                   precio  \n",
       "0     menor que  40 euros  \n",
       "1     menor que  40 euros  \n",
       "2     menor que  40 euros  \n",
       "3     menor que  40 euros  \n",
       "4     menor que  40 euros  \n",
       "...                   ...  \n",
       "537   mayor que  40 euros  \n",
       "1192  mayor que  40 euros  \n",
       "586   mayor que  40 euros  \n",
       "576   mayor que  40 euros  \n",
       "612   mayor que  40 euros  \n",
       "\n",
       "[7014 rows x 14 columns]"
      ]
     },
     "execution_count": 12,
     "metadata": {},
     "output_type": "execute_result"
    }
   ],
   "source": [
    "df_upsampled"
   ]
  },
  {
   "cell_type": "code",
   "execution_count": 13,
   "metadata": {},
   "outputs": [
    {
     "data": {
      "text/plain": [
       "menor que  40 euros    3507\n",
       "mayor que  40 euros    3507\n",
       "Name: precio, dtype: int64"
      ]
     },
     "execution_count": 13,
     "metadata": {},
     "output_type": "execute_result"
    }
   ],
   "source": [
    "df_upsampled[\"precio\"].value_counts()"
   ]
  },
  {
   "cell_type": "markdown",
   "metadata": {
    "id": "k5H67H4bxnoK"
   },
   "source": [
    "<div class=\"alert alert-success\">\n",
    "    <b> Grafico de nuevo el balance de clases, para comprobar que efectivamente están balanceadas. </b>\n",
    "</div>\n"
   ]
  },
  {
   "cell_type": "code",
   "execution_count": 14,
   "metadata": {
    "id": "sD1XYsDzxnoK"
   },
   "outputs": [
    {
     "name": "stdout",
     "output_type": "stream",
     "text": [
      "menor que  40 euros    3507\n",
      "mayor que  40 euros    3507\n",
      "Name: precio, dtype: int64\n"
     ]
    },
    {
     "data": {
      "text/plain": [
       "<AxesSubplot:ylabel='precio'>"
      ]
     },
     "execution_count": 14,
     "metadata": {},
     "output_type": "execute_result"
    },
    {
     "data": {
      "image/png": "[encoded data removed]",
      "text/plain": [
       "<Figure size 432x288 with 1 Axes>"
      ]
     },
     "metadata": {},
     "output_type": "display_data"
    }
   ],
   "source": [
    "# Comprobar si las etiquetas están desvalanceadas\n",
    "balance_clases = df_upsampled['precio'].value_counts()\n",
    "print(balance_clases)\n",
    "\n",
    "# Gráfico del balance de clases\n",
    "balance_clases.plot.pie()"
   ]
  },
  {
   "cell_type": "markdown",
   "metadata": {
    "id": "D5mwcenKxnoK"
   },
   "source": [
    "<div class=\"alert alert-success\">\n",
    "    <b> Resumen estadístico del conjunto de datos de entrada: </b>\n",
    "</div>\n",
    "La estadística descriptiva recolecta y analiza el conjunto de datos de entrada con el objetivo de describir las características y comportamientos de este conjunto mediante las siguientes medidas resumen: número total de observaciones (count), media (mean), desviación estándar (std), valor mínimo (min), valor máximo (max) y los valores de los diferentes cuartiles (25%, 50%, 75%)."
   ]
  },
  {
   "cell_type": "code",
   "execution_count": 15,
   "metadata": {
    "id": "oV-kv12ExnoK"
   },
   "outputs": [
    {
     "data": {
      "text/html": [
       "<div>\n",
       "<style scoped>\n",
       "    .dataframe tbody tr th:only-of-type {\n",
       "        vertical-align: middle;\n",
       "    }\n",
       "\n",
       "    .dataframe tbody tr th {\n",
       "        vertical-align: top;\n",
       "    }\n",
       "\n",
       "    .dataframe thead th {\n",
       "        text-align: right;\n",
       "    }\n",
       "</style>\n",
       "<table border=\"1\" class=\"dataframe\">\n",
       "  <thead>\n",
       "    <tr style=\"text-align: right;\">\n",
       "      <th></th>\n",
       "      <th>hora</th>\n",
       "      <th>dia</th>\n",
       "      <th>mes</th>\n",
       "      <th>hidraul</th>\n",
       "      <th>eolica</th>\n",
       "      <th>demanda</th>\n",
       "      <th>ciclocomb</th>\n",
       "      <th>cogener</th>\n",
       "      <th>nuclear</th>\n",
       "      <th>carbon</th>\n",
       "      <th>biomas</th>\n",
       "      <th>precio-elect-dia-anterior</th>\n",
       "      <th>MIBGAS-dia-anterior</th>\n",
       "    </tr>\n",
       "  </thead>\n",
       "  <tbody>\n",
       "    <tr>\n",
       "      <th>count</th>\n",
       "      <td>4223.000000</td>\n",
       "      <td>4223.000000</td>\n",
       "      <td>4223.000000</td>\n",
       "      <td>4223.000000</td>\n",
       "      <td>4223.000000</td>\n",
       "      <td>4220.000000</td>\n",
       "      <td>4223.000000</td>\n",
       "      <td>4223.000000</td>\n",
       "      <td>4223.000000</td>\n",
       "      <td>4220.000000</td>\n",
       "      <td>4223.000000</td>\n",
       "      <td>4223.000000</td>\n",
       "      <td>4223.000000</td>\n",
       "    </tr>\n",
       "    <tr>\n",
       "      <th>mean</th>\n",
       "      <td>11.502250</td>\n",
       "      <td>15.411556</td>\n",
       "      <td>3.443287</td>\n",
       "      <td>3090.683495</td>\n",
       "      <td>6142.901373</td>\n",
       "      <td>20223.538578</td>\n",
       "      <td>2337.097135</td>\n",
       "      <td>3059.788942</td>\n",
       "      <td>6019.210466</td>\n",
       "      <td>674.060308</td>\n",
       "      <td>374.144684</td>\n",
       "      <td>28.813694</td>\n",
       "      <td>8.288518</td>\n",
       "    </tr>\n",
       "    <tr>\n",
       "      <th>std</th>\n",
       "      <td>6.922282</td>\n",
       "      <td>8.598094</td>\n",
       "      <td>1.674775</td>\n",
       "      <td>1398.795645</td>\n",
       "      <td>3488.275912</td>\n",
       "      <td>3945.242127</td>\n",
       "      <td>1488.503359</td>\n",
       "      <td>282.994453</td>\n",
       "      <td>1212.068728</td>\n",
       "      <td>444.206117</td>\n",
       "      <td>102.061931</td>\n",
       "      <td>10.929161</td>\n",
       "      <td>2.347374</td>\n",
       "    </tr>\n",
       "    <tr>\n",
       "      <th>min</th>\n",
       "      <td>0.000000</td>\n",
       "      <td>1.000000</td>\n",
       "      <td>1.000000</td>\n",
       "      <td>856.600000</td>\n",
       "      <td>614.400000</td>\n",
       "      <td>0.000000</td>\n",
       "      <td>460.000000</td>\n",
       "      <td>1825.500000</td>\n",
       "      <td>3410.200000</td>\n",
       "      <td>0.000000</td>\n",
       "      <td>197.000000</td>\n",
       "      <td>1.020000</td>\n",
       "      <td>4.170000</td>\n",
       "    </tr>\n",
       "    <tr>\n",
       "      <th>25%</th>\n",
       "      <td>6.000000</td>\n",
       "      <td>8.000000</td>\n",
       "      <td>2.000000</td>\n",
       "      <td>1924.150000</td>\n",
       "      <td>3447.650000</td>\n",
       "      <td>17123.000000</td>\n",
       "      <td>1255.600000</td>\n",
       "      <td>2909.150000</td>\n",
       "      <td>4886.200000</td>\n",
       "      <td>413.000000</td>\n",
       "      <td>287.000000</td>\n",
       "      <td>21.080000</td>\n",
       "      <td>6.040000</td>\n",
       "    </tr>\n",
       "    <tr>\n",
       "      <th>50%</th>\n",
       "      <td>12.000000</td>\n",
       "      <td>15.000000</td>\n",
       "      <td>3.000000</td>\n",
       "      <td>2760.400000</td>\n",
       "      <td>5394.900000</td>\n",
       "      <td>20094.500000</td>\n",
       "      <td>1962.600000</td>\n",
       "      <td>3089.300000</td>\n",
       "      <td>6730.500000</td>\n",
       "      <td>530.000000</td>\n",
       "      <td>373.000000</td>\n",
       "      <td>28.410000</td>\n",
       "      <td>8.180000</td>\n",
       "    </tr>\n",
       "    <tr>\n",
       "      <th>75%</th>\n",
       "      <td>17.500000</td>\n",
       "      <td>23.000000</td>\n",
       "      <td>5.000000</td>\n",
       "      <td>4126.450000</td>\n",
       "      <td>8229.350000</td>\n",
       "      <td>22871.725000</td>\n",
       "      <td>2893.350000</td>\n",
       "      <td>3238.150000</td>\n",
       "      <td>7089.500000</td>\n",
       "      <td>973.000000</td>\n",
       "      <td>462.000000</td>\n",
       "      <td>36.670000</td>\n",
       "      <td>9.975000</td>\n",
       "    </tr>\n",
       "    <tr>\n",
       "      <th>max</th>\n",
       "      <td>23.000000</td>\n",
       "      <td>31.000000</td>\n",
       "      <td>6.000000</td>\n",
       "      <td>7411.900000</td>\n",
       "      <td>18996.300000</td>\n",
       "      <td>35458.900000</td>\n",
       "      <td>9078.400000</td>\n",
       "      <td>3696.800000</td>\n",
       "      <td>7100.500000</td>\n",
       "      <td>2065.000000</td>\n",
       "      <td>551.000000</td>\n",
       "      <td>62.480000</td>\n",
       "      <td>14.480000</td>\n",
       "    </tr>\n",
       "  </tbody>\n",
       "</table>\n",
       "</div>"
      ],
      "text/plain": [
       "              hora          dia          mes      hidraul        eolica  \\\n",
       "count  4223.000000  4223.000000  4223.000000  4223.000000   4223.000000   \n",
       "mean     11.502250    15.411556     3.443287  3090.683495   6142.901373   \n",
       "std       6.922282     8.598094     1.674775  1398.795645   3488.275912   \n",
       "min       0.000000     1.000000     1.000000   856.600000    614.400000   \n",
       "25%       6.000000     8.000000     2.000000  1924.150000   3447.650000   \n",
       "50%      12.000000    15.000000     3.000000  2760.400000   5394.900000   \n",
       "75%      17.500000    23.000000     5.000000  4126.450000   8229.350000   \n",
       "max      23.000000    31.000000     6.000000  7411.900000  18996.300000   \n",
       "\n",
       "            demanda    ciclocomb      cogener      nuclear       carbon  \\\n",
       "count   4220.000000  4223.000000  4223.000000  4223.000000  4220.000000   \n",
       "mean   20223.538578  2337.097135  3059.788942  6019.210466   674.060308   \n",
       "std     3945.242127  1488.503359   282.994453  1212.068728   444.206117   \n",
       "min        0.000000   460.000000  1825.500000  3410.200000     0.000000   \n",
       "25%    17123.000000  1255.600000  2909.150000  4886.200000   413.000000   \n",
       "50%    20094.500000  1962.600000  3089.300000  6730.500000   530.000000   \n",
       "75%    22871.725000  2893.350000  3238.150000  7089.500000   973.000000   \n",
       "max    35458.900000  9078.400000  3696.800000  7100.500000  2065.000000   \n",
       "\n",
       "            biomas  precio-elect-dia-anterior  MIBGAS-dia-anterior  \n",
       "count  4223.000000                4223.000000          4223.000000  \n",
       "mean    374.144684                  28.813694             8.288518  \n",
       "std     102.061931                  10.929161             2.347374  \n",
       "min     197.000000                   1.020000             4.170000  \n",
       "25%     287.000000                  21.080000             6.040000  \n",
       "50%     373.000000                  28.410000             8.180000  \n",
       "75%     462.000000                  36.670000             9.975000  \n",
       "max     551.000000                  62.480000            14.480000  "
      ]
     },
     "execution_count": 15,
     "metadata": {},
     "output_type": "execute_result"
    }
   ],
   "source": [
    "# Datos estadísticos de cada uno de los atributos\n",
    "dataset.describe()"
   ]
  },
  {
   "cell_type": "markdown",
   "metadata": {
    "id": "WJ_KnfECxnoK"
   },
   "source": [
    "## **3. Visualizar los datos**\n",
    "\n",
    "Una manera visual de entender los datos de entrada. \n",
    "1. Histograma\n",
    "2. Curva de densidad\n",
    "3. Boxplots\n",
    "4. Matriz de correlación\n"
   ]
  },
  {
   "cell_type": "markdown",
   "metadata": {
    "id": "53JxNcpBxnoK"
   },
   "source": [
    "<div class=\"alert alert-success\">\n",
    "    <b>Histograma </b>\n",
    "</div>\n",
    "\n",
    "\n",
    "Respresentación gráfica de cada uno de los atributos en forma de barras, donde la superficie de la barra es proporcional a la frecuencia de los valores representados."
   ]
  },
  {
   "cell_type": "code",
   "execution_count": 16,
   "metadata": {
    "id": "5lgAxdBMxnoK"
   },
   "outputs": [
    {
     "data": {
      "image/png": "[encoded data removed]",
      "text/plain": [
       "<Figure size 1080x720 with 16 Axes>"
      ]
     },
     "metadata": {
      "needs_background": "light"
     },
     "output_type": "display_data"
    }
   ],
   "source": [
    "histograma = dataset.hist(xlabelsize=10, ylabelsize=10, bins=50, figsize=(15, 10))"
   ]
  },
  {
   "cell_type": "markdown",
   "metadata": {
    "id": "uerdRPgHxnoK"
   },
   "source": [
    "<div class=\"alert alert-success\">\n",
    "    <b> Gráfico de densidades </b>\n",
    "</div>\n",
    "\n",
    "Visualiza la distribución de los datos. Es una variable del histograma, pero elimina el ruido, por lo que son mejores para determinar la forma de distribución de un atributo. Lo spicos del gráfico de densidad ayudan a mostrar dónde los valores se concentran más. "
   ]
  },
  {
   "cell_type": "code",
   "execution_count": 17,
   "metadata": {
    "id": "XJ6MGnYpxnoL"
   },
   "outputs": [
    {
     "data": {
      "image/png": "[encoded data removed]",
      "text/plain": [
       "<Figure size 1224x864 with 16 Axes>"
      ]
     },
     "metadata": {
      "needs_background": "light"
     },
     "output_type": "display_data"
    }
   ],
   "source": [
    "density = dataset.plot(kind='kde', subplots=True, legend=True, layout=(4, 4), figsize=(17, 12), sharex=False,\n",
    "                        fontsize=8, stacked=True) "
   ]
  },
  {
   "cell_type": "markdown",
   "metadata": {
    "id": "n6ppInhNxnoL"
   },
   "source": [
    "<div class=\"alert alert-success\">\n",
    "    <b> Boxplots </b>\n",
    "</div>\n",
    "\n",
    "\n",
    "El boxplot (diagrama de caja) nos permite identificar los valores atípicos y comparar distribuciones. Además, se conoce como se distribuyen el 50% de los valores (dentro de la caja).\n"
   ]
  },
  {
   "cell_type": "code",
   "execution_count": 18,
   "metadata": {
    "id": "m_UnOso_xnoL"
   },
   "outputs": [
    {
     "data": {
      "image/png": "[encoded data removed]",
      "text/plain": [
       "<Figure size 1080x720 with 16 Axes>"
      ]
     },
     "metadata": {
      "needs_background": "light"
     },
     "output_type": "display_data"
    }
   ],
   "source": [
    "atributos_boxplot = dataset.plot(kind='box', subplots=True, layout=(4, 4), figsize=(15, 10), sharex=False,\n",
    "                                 sharey=False, fontsize=10)"
   ]
  },
  {
   "cell_type": "markdown",
   "metadata": {
    "id": "xm-NgwtqxnoL"
   },
   "source": [
    "<div class=\"alert alert-success\">\n",
    "    <b> Matriz de correlación </b>\n",
    "</div>\n",
    "\n",
    "Utilizamos el método de Spearman para evaluar la relación monótona entre dos variables contínuas. \n",
    "\n",
    "Comparación entre método de [Pearson y Spearman]\n",
    "\n",
    "[Pearson y Spearman]: https://support.minitab.com/es-mx/minitab/18/help-and-how-to/statistics/basic-statistics/supporting-topics/correlation-and-covariance/a-comparison-of-the-pearson-and-spearman-correlation-methods/\n",
    "\n",
    "\n",
    "* **¿Qué variable no tiene ninguna correlación con ningún atributo?** "
   ]
  },
  {
   "cell_type": "code",
   "execution_count": 19,
   "metadata": {
    "id": "Y5KmysuCxnoL",
    "scrolled": false
   },
   "outputs": [
    {
     "data": {
      "image/png": "[encoded data removed]",
      "text/plain": [
       "<Figure size 864x864 with 2 Axes>"
      ]
     },
     "metadata": {
      "needs_background": "light"
     },
     "output_type": "display_data"
    }
   ],
   "source": [
    "# Otra librería de visualización de datos\n",
    "import seaborn as sns\n",
    "\n",
    "# Cálculo de coeficientes de correlación\n",
    "corr_matrix = dataset.corr(method='spearman') \n",
    "\n",
    "\n",
    "# Quitar valores repetidos\n",
    "mask = np.zeros_like(corr_matrix, dtype=np.bool)\n",
    "mask[np.triu_indices_from(mask)] = True\n",
    "\n",
    "  \n",
    "f, ax = plt.subplots(figsize=(12, 12))\n",
    "#Generar Heat Map,\n",
    "sns.heatmap(corr_matrix, annot=True, fmt=\".2f\" , mask=mask,)\n",
    "    # xticks\n",
    "plt.xticks(range(len(corr_matrix.columns)), corr_matrix.columns);\n",
    "    # yticks\n",
    "plt.yticks(range(len(corr_matrix.columns)), corr_matrix.columns)\n",
    "    # plot\n",
    "plt.show()"
   ]
  },
  {
   "cell_type": "markdown",
   "metadata": {
    "id": "DtKIeiWexnoL"
   },
   "source": [
    "\n",
    "<div class=\"alert alert-success\">\n",
    "    <b> La etiqueta es de tipo ´´object´´, por lo que hay que transformarla a numérico </b>\n",
    "</div>\n",
    "\n",
    "No podemos ver la correlación con el precio, debemos pasarlo a numérico [LabelEncoder]\n",
    "\n",
    "\n",
    "[LabelEncoder]: https://scikit-learn.org/stable/modules/generated/sklearn.preprocessing.LabelEncoder.html"
   ]
  },
  {
   "cell_type": "code",
   "execution_count": 20,
   "metadata": {
    "id": "b3WDY0cTxnoM"
   },
   "outputs": [
    {
     "name": "stdout",
     "output_type": "stream",
     "text": [
      "['mayor que  40 euros' 'menor que  40 euros']\n",
      "      hora  dia  mes  hidraul  eolica  demanda  ciclocomb  cogener  nuclear  \\\n",
      "0        0    2    1   5221.1  1639.0  13290.5     2500.5   2493.8   7093.6   \n",
      "1        1    2    1   4928.5  1568.4  12720.1     2411.5   2447.8   7091.6   \n",
      "2        2    2    1   4860.3  1566.3  12558.6     2307.5   2446.6   7092.6   \n",
      "3        3    2    1   4980.8  1781.5  12837.5     2307.5   2436.7   7092.6   \n",
      "4        4    2    1   4984.3  1998.2  13100.9     2374.2   2448.3   7094.6   \n",
      "...    ...  ...  ...      ...     ...      ...        ...      ...      ...   \n",
      "4218    19   26    6   4230.5  3680.1  29267.6     7090.4   3200.0   5061.4   \n",
      "4219    20   26    6   4479.3  3828.2  29025.5     7130.7   3203.2   5063.4   \n",
      "4220    21   26    6   3800.5  3712.7  29266.4     6764.1   3217.7   5062.4   \n",
      "4221    22   26    6   3529.7  3780.1  28711.2     6745.1   3215.0   5064.4   \n",
      "4222    23   26    6   2650.6  3676.9  26581.4     6650.9   3209.0   5065.4   \n",
      "\n",
      "      carbon  biomas  precio-elect-dia-anterior  MIBGAS-dia-anterior  precio  \n",
      "0      430.0     270                      41.88                11.27       1  \n",
      "1      430.0     243                      38.60                11.27       1  \n",
      "2      417.0     362                      36.55                11.27       1  \n",
      "3      387.0     369                      32.32                11.27       1  \n",
      "4      387.0     413                      30.85                11.27       1  \n",
      "...      ...     ...                        ...                  ...     ...  \n",
      "4218   946.0     365                      40.44                 7.28       1  \n",
      "4219   946.0     453                      41.23                 7.28       0  \n",
      "4220   946.0     362                      40.24                 7.28       1  \n",
      "4221   946.0     424                      40.10                 7.28       0  \n",
      "4222   946.0     358                      38.63                 7.28       1  \n",
      "\n",
      "[4223 rows x 14 columns]\n"
     ]
    }
   ],
   "source": [
    "from sklearn.preprocessing import LabelEncoder\n",
    "\n",
    "lab_encoder = LabelEncoder() \n",
    "lab_encoder.fit(dataset['precio'])  \n",
    "print(lab_encoder.classes_)  # Muestra las clases diferentes que hay\n",
    "\n",
    "dataset['precio'] = lab_encoder.transform(dataset['precio'])\n",
    "print(dataset)"
   ]
  },
  {
   "cell_type": "code",
   "execution_count": 21,
   "metadata": {
    "id": "79ciq8hXxnoM"
   },
   "outputs": [],
   "source": [
    "# replace column values 0: menor que 40; 1: mayor que 40. \n",
    "\n",
    "dataset['precio'] = dataset['precio'].map({0:1, 1:0})\n",
    "dataset.to_excel('dataset.xlsx')\n"
   ]
  },
  {
   "cell_type": "code",
   "execution_count": 22,
   "metadata": {
    "id": "T1JOUjxOxnoM",
    "scrolled": true
   },
   "outputs": [
    {
     "data": {
      "text/html": [
       "<div>\n",
       "<style scoped>\n",
       "    .dataframe tbody tr th:only-of-type {\n",
       "        vertical-align: middle;\n",
       "    }\n",
       "\n",
       "    .dataframe tbody tr th {\n",
       "        vertical-align: top;\n",
       "    }\n",
       "\n",
       "    .dataframe thead th {\n",
       "        text-align: right;\n",
       "    }\n",
       "</style>\n",
       "<table border=\"1\" class=\"dataframe\">\n",
       "  <thead>\n",
       "    <tr style=\"text-align: right;\">\n",
       "      <th></th>\n",
       "      <th>hora</th>\n",
       "      <th>dia</th>\n",
       "      <th>mes</th>\n",
       "      <th>hidraul</th>\n",
       "      <th>eolica</th>\n",
       "      <th>demanda</th>\n",
       "      <th>ciclocomb</th>\n",
       "      <th>cogener</th>\n",
       "      <th>nuclear</th>\n",
       "      <th>carbon</th>\n",
       "      <th>biomas</th>\n",
       "      <th>precio-elect-dia-anterior</th>\n",
       "      <th>MIBGAS-dia-anterior</th>\n",
       "      <th>precio</th>\n",
       "    </tr>\n",
       "  </thead>\n",
       "  <tbody>\n",
       "    <tr>\n",
       "      <th>0</th>\n",
       "      <td>0</td>\n",
       "      <td>2</td>\n",
       "      <td>1</td>\n",
       "      <td>5221.1</td>\n",
       "      <td>1639.0</td>\n",
       "      <td>13290.5</td>\n",
       "      <td>2500.5</td>\n",
       "      <td>2493.8</td>\n",
       "      <td>7093.6</td>\n",
       "      <td>430.0</td>\n",
       "      <td>270</td>\n",
       "      <td>41.88</td>\n",
       "      <td>11.27</td>\n",
       "      <td>0</td>\n",
       "    </tr>\n",
       "    <tr>\n",
       "      <th>1</th>\n",
       "      <td>1</td>\n",
       "      <td>2</td>\n",
       "      <td>1</td>\n",
       "      <td>4928.5</td>\n",
       "      <td>1568.4</td>\n",
       "      <td>12720.1</td>\n",
       "      <td>2411.5</td>\n",
       "      <td>2447.8</td>\n",
       "      <td>7091.6</td>\n",
       "      <td>430.0</td>\n",
       "      <td>243</td>\n",
       "      <td>38.60</td>\n",
       "      <td>11.27</td>\n",
       "      <td>0</td>\n",
       "    </tr>\n",
       "    <tr>\n",
       "      <th>2</th>\n",
       "      <td>2</td>\n",
       "      <td>2</td>\n",
       "      <td>1</td>\n",
       "      <td>4860.3</td>\n",
       "      <td>1566.3</td>\n",
       "      <td>12558.6</td>\n",
       "      <td>2307.5</td>\n",
       "      <td>2446.6</td>\n",
       "      <td>7092.6</td>\n",
       "      <td>417.0</td>\n",
       "      <td>362</td>\n",
       "      <td>36.55</td>\n",
       "      <td>11.27</td>\n",
       "      <td>0</td>\n",
       "    </tr>\n",
       "    <tr>\n",
       "      <th>3</th>\n",
       "      <td>3</td>\n",
       "      <td>2</td>\n",
       "      <td>1</td>\n",
       "      <td>4980.8</td>\n",
       "      <td>1781.5</td>\n",
       "      <td>12837.5</td>\n",
       "      <td>2307.5</td>\n",
       "      <td>2436.7</td>\n",
       "      <td>7092.6</td>\n",
       "      <td>387.0</td>\n",
       "      <td>369</td>\n",
       "      <td>32.32</td>\n",
       "      <td>11.27</td>\n",
       "      <td>0</td>\n",
       "    </tr>\n",
       "    <tr>\n",
       "      <th>4</th>\n",
       "      <td>4</td>\n",
       "      <td>2</td>\n",
       "      <td>1</td>\n",
       "      <td>4984.3</td>\n",
       "      <td>1998.2</td>\n",
       "      <td>13100.9</td>\n",
       "      <td>2374.2</td>\n",
       "      <td>2448.3</td>\n",
       "      <td>7094.6</td>\n",
       "      <td>387.0</td>\n",
       "      <td>413</td>\n",
       "      <td>30.85</td>\n",
       "      <td>11.27</td>\n",
       "      <td>0</td>\n",
       "    </tr>\n",
       "    <tr>\n",
       "      <th>...</th>\n",
       "      <td>...</td>\n",
       "      <td>...</td>\n",
       "      <td>...</td>\n",
       "      <td>...</td>\n",
       "      <td>...</td>\n",
       "      <td>...</td>\n",
       "      <td>...</td>\n",
       "      <td>...</td>\n",
       "      <td>...</td>\n",
       "      <td>...</td>\n",
       "      <td>...</td>\n",
       "      <td>...</td>\n",
       "      <td>...</td>\n",
       "      <td>...</td>\n",
       "    </tr>\n",
       "    <tr>\n",
       "      <th>4218</th>\n",
       "      <td>19</td>\n",
       "      <td>26</td>\n",
       "      <td>6</td>\n",
       "      <td>4230.5</td>\n",
       "      <td>3680.1</td>\n",
       "      <td>29267.6</td>\n",
       "      <td>7090.4</td>\n",
       "      <td>3200.0</td>\n",
       "      <td>5061.4</td>\n",
       "      <td>946.0</td>\n",
       "      <td>365</td>\n",
       "      <td>40.44</td>\n",
       "      <td>7.28</td>\n",
       "      <td>0</td>\n",
       "    </tr>\n",
       "    <tr>\n",
       "      <th>4219</th>\n",
       "      <td>20</td>\n",
       "      <td>26</td>\n",
       "      <td>6</td>\n",
       "      <td>4479.3</td>\n",
       "      <td>3828.2</td>\n",
       "      <td>29025.5</td>\n",
       "      <td>7130.7</td>\n",
       "      <td>3203.2</td>\n",
       "      <td>5063.4</td>\n",
       "      <td>946.0</td>\n",
       "      <td>453</td>\n",
       "      <td>41.23</td>\n",
       "      <td>7.28</td>\n",
       "      <td>1</td>\n",
       "    </tr>\n",
       "    <tr>\n",
       "      <th>4220</th>\n",
       "      <td>21</td>\n",
       "      <td>26</td>\n",
       "      <td>6</td>\n",
       "      <td>3800.5</td>\n",
       "      <td>3712.7</td>\n",
       "      <td>29266.4</td>\n",
       "      <td>6764.1</td>\n",
       "      <td>3217.7</td>\n",
       "      <td>5062.4</td>\n",
       "      <td>946.0</td>\n",
       "      <td>362</td>\n",
       "      <td>40.24</td>\n",
       "      <td>7.28</td>\n",
       "      <td>0</td>\n",
       "    </tr>\n",
       "    <tr>\n",
       "      <th>4221</th>\n",
       "      <td>22</td>\n",
       "      <td>26</td>\n",
       "      <td>6</td>\n",
       "      <td>3529.7</td>\n",
       "      <td>3780.1</td>\n",
       "      <td>28711.2</td>\n",
       "      <td>6745.1</td>\n",
       "      <td>3215.0</td>\n",
       "      <td>5064.4</td>\n",
       "      <td>946.0</td>\n",
       "      <td>424</td>\n",
       "      <td>40.10</td>\n",
       "      <td>7.28</td>\n",
       "      <td>1</td>\n",
       "    </tr>\n",
       "    <tr>\n",
       "      <th>4222</th>\n",
       "      <td>23</td>\n",
       "      <td>26</td>\n",
       "      <td>6</td>\n",
       "      <td>2650.6</td>\n",
       "      <td>3676.9</td>\n",
       "      <td>26581.4</td>\n",
       "      <td>6650.9</td>\n",
       "      <td>3209.0</td>\n",
       "      <td>5065.4</td>\n",
       "      <td>946.0</td>\n",
       "      <td>358</td>\n",
       "      <td>38.63</td>\n",
       "      <td>7.28</td>\n",
       "      <td>0</td>\n",
       "    </tr>\n",
       "  </tbody>\n",
       "</table>\n",
       "<p>4223 rows × 14 columns</p>\n",
       "</div>"
      ],
      "text/plain": [
       "      hora  dia  mes  hidraul  eolica  demanda  ciclocomb  cogener  nuclear  \\\n",
       "0        0    2    1   5221.1  1639.0  13290.5     2500.5   2493.8   7093.6   \n",
       "1        1    2    1   4928.5  1568.4  12720.1     2411.5   2447.8   7091.6   \n",
       "2        2    2    1   4860.3  1566.3  12558.6     2307.5   2446.6   7092.6   \n",
       "3        3    2    1   4980.8  1781.5  12837.5     2307.5   2436.7   7092.6   \n",
       "4        4    2    1   4984.3  1998.2  13100.9     2374.2   2448.3   7094.6   \n",
       "...    ...  ...  ...      ...     ...      ...        ...      ...      ...   \n",
       "4218    19   26    6   4230.5  3680.1  29267.6     7090.4   3200.0   5061.4   \n",
       "4219    20   26    6   4479.3  3828.2  29025.5     7130.7   3203.2   5063.4   \n",
       "4220    21   26    6   3800.5  3712.7  29266.4     6764.1   3217.7   5062.4   \n",
       "4221    22   26    6   3529.7  3780.1  28711.2     6745.1   3215.0   5064.4   \n",
       "4222    23   26    6   2650.6  3676.9  26581.4     6650.9   3209.0   5065.4   \n",
       "\n",
       "      carbon  biomas  precio-elect-dia-anterior  MIBGAS-dia-anterior  precio  \n",
       "0      430.0     270                      41.88                11.27       0  \n",
       "1      430.0     243                      38.60                11.27       0  \n",
       "2      417.0     362                      36.55                11.27       0  \n",
       "3      387.0     369                      32.32                11.27       0  \n",
       "4      387.0     413                      30.85                11.27       0  \n",
       "...      ...     ...                        ...                  ...     ...  \n",
       "4218   946.0     365                      40.44                 7.28       0  \n",
       "4219   946.0     453                      41.23                 7.28       1  \n",
       "4220   946.0     362                      40.24                 7.28       0  \n",
       "4221   946.0     424                      40.10                 7.28       1  \n",
       "4222   946.0     358                      38.63                 7.28       0  \n",
       "\n",
       "[4223 rows x 14 columns]"
      ]
     },
     "execution_count": 22,
     "metadata": {},
     "output_type": "execute_result"
    }
   ],
   "source": [
    "dataset"
   ]
  },
  {
   "cell_type": "markdown",
   "metadata": {
    "id": "lORe_KgUxnoM"
   },
   "source": [
    "<div class=\"alert alert-success\">\n",
    "    <b> Volvemos a mostrar la matriz de correlación con el valor del precio [1 (muy alto), 0 (normal)] </b>\n",
    "</div>\n",
    "\n"
   ]
  },
  {
   "cell_type": "code",
   "execution_count": 23,
   "metadata": {
    "id": "wVp-6PFxxnoM"
   },
   "outputs": [
    {
     "data": {
      "image/png": "[encoded data removed]",
      "text/plain": [
       "<Figure size 864x864 with 2 Axes>"
      ]
     },
     "metadata": {
      "needs_background": "light"
     },
     "output_type": "display_data"
    }
   ],
   "source": [
    "# Cálculo de coeficientes de correlación\n",
    "corr_matrix = dataset.corr(method='spearman') \n",
    "\n",
    "\n",
    "# Quitar valores repetidos\n",
    "mask = np.zeros_like(corr_matrix, dtype=np.bool)\n",
    "mask[np.triu_indices_from(mask)] = True\n",
    "\n",
    "  \n",
    "f, ax = plt.subplots(figsize=(12, 12))\n",
    "#Generar Heat Map,\n",
    "sns.heatmap(corr_matrix, annot=True, fmt=\".2f\" , mask=mask,)\n",
    "    # xticks\n",
    "plt.xticks(range(len(corr_matrix.columns)), corr_matrix.columns);\n",
    "    # yticks\n",
    "plt.yticks(range(len(corr_matrix.columns)), corr_matrix.columns)\n",
    "    # plot\n",
    "plt.show()"
   ]
  },
  {
   "cell_type": "markdown",
   "metadata": {
    "id": "ZLhGpuOZxnoM"
   },
   "source": [
    "## *4. Preparar los datos*\n",
    "\n",
    "1. Missing data\n",
    "2. Data cleaning (eliminar outliers).\n",
    "3. LabelEncoding (ya lo hemos hecho)\n",
    "4. Feature engineering\n",
    "5. Transformación."
   ]
  },
  {
   "cell_type": "markdown",
   "metadata": {
    "id": "t0DuTYPKxnoM"
   },
   "source": [
    "Primero, divido los datos en **atributos**: X (features) y **etiquetas**: y (target)"
   ]
  },
  {
   "cell_type": "code",
   "execution_count": 24,
   "metadata": {
    "id": "WWdsmSmMxnoN"
   },
   "outputs": [
    {
     "data": {
      "text/html": [
       "<div>\n",
       "<style scoped>\n",
       "    .dataframe tbody tr th:only-of-type {\n",
       "        vertical-align: middle;\n",
       "    }\n",
       "\n",
       "    .dataframe tbody tr th {\n",
       "        vertical-align: top;\n",
       "    }\n",
       "\n",
       "    .dataframe thead th {\n",
       "        text-align: right;\n",
       "    }\n",
       "</style>\n",
       "<table border=\"1\" class=\"dataframe\">\n",
       "  <thead>\n",
       "    <tr style=\"text-align: right;\">\n",
       "      <th></th>\n",
       "      <th>hora</th>\n",
       "      <th>dia</th>\n",
       "      <th>mes</th>\n",
       "      <th>hidraul</th>\n",
       "      <th>eolica</th>\n",
       "      <th>demanda</th>\n",
       "      <th>ciclocomb</th>\n",
       "      <th>cogener</th>\n",
       "      <th>nuclear</th>\n",
       "      <th>carbon</th>\n",
       "      <th>biomas</th>\n",
       "      <th>precio-elect-dia-anterior</th>\n",
       "      <th>MIBGAS-dia-anterior</th>\n",
       "    </tr>\n",
       "  </thead>\n",
       "  <tbody>\n",
       "    <tr>\n",
       "      <th>0</th>\n",
       "      <td>0</td>\n",
       "      <td>2</td>\n",
       "      <td>1</td>\n",
       "      <td>5221.1</td>\n",
       "      <td>1639.0</td>\n",
       "      <td>13290.5</td>\n",
       "      <td>2500.5</td>\n",
       "      <td>2493.8</td>\n",
       "      <td>7093.6</td>\n",
       "      <td>430.0</td>\n",
       "      <td>270</td>\n",
       "      <td>41.88</td>\n",
       "      <td>11.27</td>\n",
       "    </tr>\n",
       "    <tr>\n",
       "      <th>1</th>\n",
       "      <td>1</td>\n",
       "      <td>2</td>\n",
       "      <td>1</td>\n",
       "      <td>4928.5</td>\n",
       "      <td>1568.4</td>\n",
       "      <td>12720.1</td>\n",
       "      <td>2411.5</td>\n",
       "      <td>2447.8</td>\n",
       "      <td>7091.6</td>\n",
       "      <td>430.0</td>\n",
       "      <td>243</td>\n",
       "      <td>38.60</td>\n",
       "      <td>11.27</td>\n",
       "    </tr>\n",
       "    <tr>\n",
       "      <th>2</th>\n",
       "      <td>2</td>\n",
       "      <td>2</td>\n",
       "      <td>1</td>\n",
       "      <td>4860.3</td>\n",
       "      <td>1566.3</td>\n",
       "      <td>12558.6</td>\n",
       "      <td>2307.5</td>\n",
       "      <td>2446.6</td>\n",
       "      <td>7092.6</td>\n",
       "      <td>417.0</td>\n",
       "      <td>362</td>\n",
       "      <td>36.55</td>\n",
       "      <td>11.27</td>\n",
       "    </tr>\n",
       "    <tr>\n",
       "      <th>3</th>\n",
       "      <td>3</td>\n",
       "      <td>2</td>\n",
       "      <td>1</td>\n",
       "      <td>4980.8</td>\n",
       "      <td>1781.5</td>\n",
       "      <td>12837.5</td>\n",
       "      <td>2307.5</td>\n",
       "      <td>2436.7</td>\n",
       "      <td>7092.6</td>\n",
       "      <td>387.0</td>\n",
       "      <td>369</td>\n",
       "      <td>32.32</td>\n",
       "      <td>11.27</td>\n",
       "    </tr>\n",
       "    <tr>\n",
       "      <th>4</th>\n",
       "      <td>4</td>\n",
       "      <td>2</td>\n",
       "      <td>1</td>\n",
       "      <td>4984.3</td>\n",
       "      <td>1998.2</td>\n",
       "      <td>13100.9</td>\n",
       "      <td>2374.2</td>\n",
       "      <td>2448.3</td>\n",
       "      <td>7094.6</td>\n",
       "      <td>387.0</td>\n",
       "      <td>413</td>\n",
       "      <td>30.85</td>\n",
       "      <td>11.27</td>\n",
       "    </tr>\n",
       "    <tr>\n",
       "      <th>...</th>\n",
       "      <td>...</td>\n",
       "      <td>...</td>\n",
       "      <td>...</td>\n",
       "      <td>...</td>\n",
       "      <td>...</td>\n",
       "      <td>...</td>\n",
       "      <td>...</td>\n",
       "      <td>...</td>\n",
       "      <td>...</td>\n",
       "      <td>...</td>\n",
       "      <td>...</td>\n",
       "      <td>...</td>\n",
       "      <td>...</td>\n",
       "    </tr>\n",
       "    <tr>\n",
       "      <th>4218</th>\n",
       "      <td>19</td>\n",
       "      <td>26</td>\n",
       "      <td>6</td>\n",
       "      <td>4230.5</td>\n",
       "      <td>3680.1</td>\n",
       "      <td>29267.6</td>\n",
       "      <td>7090.4</td>\n",
       "      <td>3200.0</td>\n",
       "      <td>5061.4</td>\n",
       "      <td>946.0</td>\n",
       "      <td>365</td>\n",
       "      <td>40.44</td>\n",
       "      <td>7.28</td>\n",
       "    </tr>\n",
       "    <tr>\n",
       "      <th>4219</th>\n",
       "      <td>20</td>\n",
       "      <td>26</td>\n",
       "      <td>6</td>\n",
       "      <td>4479.3</td>\n",
       "      <td>3828.2</td>\n",
       "      <td>29025.5</td>\n",
       "      <td>7130.7</td>\n",
       "      <td>3203.2</td>\n",
       "      <td>5063.4</td>\n",
       "      <td>946.0</td>\n",
       "      <td>453</td>\n",
       "      <td>41.23</td>\n",
       "      <td>7.28</td>\n",
       "    </tr>\n",
       "    <tr>\n",
       "      <th>4220</th>\n",
       "      <td>21</td>\n",
       "      <td>26</td>\n",
       "      <td>6</td>\n",
       "      <td>3800.5</td>\n",
       "      <td>3712.7</td>\n",
       "      <td>29266.4</td>\n",
       "      <td>6764.1</td>\n",
       "      <td>3217.7</td>\n",
       "      <td>5062.4</td>\n",
       "      <td>946.0</td>\n",
       "      <td>362</td>\n",
       "      <td>40.24</td>\n",
       "      <td>7.28</td>\n",
       "    </tr>\n",
       "    <tr>\n",
       "      <th>4221</th>\n",
       "      <td>22</td>\n",
       "      <td>26</td>\n",
       "      <td>6</td>\n",
       "      <td>3529.7</td>\n",
       "      <td>3780.1</td>\n",
       "      <td>28711.2</td>\n",
       "      <td>6745.1</td>\n",
       "      <td>3215.0</td>\n",
       "      <td>5064.4</td>\n",
       "      <td>946.0</td>\n",
       "      <td>424</td>\n",
       "      <td>40.10</td>\n",
       "      <td>7.28</td>\n",
       "    </tr>\n",
       "    <tr>\n",
       "      <th>4222</th>\n",
       "      <td>23</td>\n",
       "      <td>26</td>\n",
       "      <td>6</td>\n",
       "      <td>2650.6</td>\n",
       "      <td>3676.9</td>\n",
       "      <td>26581.4</td>\n",
       "      <td>6650.9</td>\n",
       "      <td>3209.0</td>\n",
       "      <td>5065.4</td>\n",
       "      <td>946.0</td>\n",
       "      <td>358</td>\n",
       "      <td>38.63</td>\n",
       "      <td>7.28</td>\n",
       "    </tr>\n",
       "  </tbody>\n",
       "</table>\n",
       "<p>4223 rows × 13 columns</p>\n",
       "</div>"
      ],
      "text/plain": [
       "      hora  dia  mes  hidraul  eolica  demanda  ciclocomb  cogener  nuclear  \\\n",
       "0        0    2    1   5221.1  1639.0  13290.5     2500.5   2493.8   7093.6   \n",
       "1        1    2    1   4928.5  1568.4  12720.1     2411.5   2447.8   7091.6   \n",
       "2        2    2    1   4860.3  1566.3  12558.6     2307.5   2446.6   7092.6   \n",
       "3        3    2    1   4980.8  1781.5  12837.5     2307.5   2436.7   7092.6   \n",
       "4        4    2    1   4984.3  1998.2  13100.9     2374.2   2448.3   7094.6   \n",
       "...    ...  ...  ...      ...     ...      ...        ...      ...      ...   \n",
       "4218    19   26    6   4230.5  3680.1  29267.6     7090.4   3200.0   5061.4   \n",
       "4219    20   26    6   4479.3  3828.2  29025.5     7130.7   3203.2   5063.4   \n",
       "4220    21   26    6   3800.5  3712.7  29266.4     6764.1   3217.7   5062.4   \n",
       "4221    22   26    6   3529.7  3780.1  28711.2     6745.1   3215.0   5064.4   \n",
       "4222    23   26    6   2650.6  3676.9  26581.4     6650.9   3209.0   5065.4   \n",
       "\n",
       "      carbon  biomas  precio-elect-dia-anterior  MIBGAS-dia-anterior  \n",
       "0      430.0     270                      41.88                11.27  \n",
       "1      430.0     243                      38.60                11.27  \n",
       "2      417.0     362                      36.55                11.27  \n",
       "3      387.0     369                      32.32                11.27  \n",
       "4      387.0     413                      30.85                11.27  \n",
       "...      ...     ...                        ...                  ...  \n",
       "4218   946.0     365                      40.44                 7.28  \n",
       "4219   946.0     453                      41.23                 7.28  \n",
       "4220   946.0     362                      40.24                 7.28  \n",
       "4221   946.0     424                      40.10                 7.28  \n",
       "4222   946.0     358                      38.63                 7.28  \n",
       "\n",
       "[4223 rows x 13 columns]"
      ]
     },
     "execution_count": 24,
     "metadata": {},
     "output_type": "execute_result"
    }
   ],
   "source": [
    "# Atributos X (features); etiquetas y (target)\n",
    "X = dataset.drop(['precio'], axis=1) \n",
    "y = dataset['precio']\n",
    "X"
   ]
  },
  {
   "cell_type": "markdown",
   "metadata": {
    "id": "NOUDJoeBxnoN"
   },
   "source": [
    "\n",
    "<div class=\"alert alert-success\">\n",
    "    <b> Missing data </b>\n",
    "</div>\n",
    "\n",
    "\n",
    "Comprobar si exisiten Nan en los datos de entrada. \n",
    "\n",
    "- Se utiliza el método [fillna] de Pandas.\n",
    "\n",
    "- Más información acerca de cómo imputar valores con [Scikit Learn]\n",
    "\n",
    "[Scikit Learn]: https://scikit-learn.org/stable/modules/impute.html\n",
    "[fillna]: https://pandas.pydata.org/pandas-docs/stable/reference/api/pandas.DataFrame.fillna.html\n",
    "\n",
    "\n",
    "\n"
   ]
  },
  {
   "cell_type": "code",
   "execution_count": 25,
   "metadata": {
    "id": "WQkiZecFxnoN"
   },
   "outputs": [
    {
     "data": {
      "text/plain": [
       "hora                         0\n",
       "dia                          0\n",
       "mes                          0\n",
       "hidraul                      0\n",
       "eolica                       0\n",
       "demanda                      3\n",
       "ciclocomb                    0\n",
       "cogener                      0\n",
       "nuclear                      0\n",
       "carbon                       3\n",
       "biomas                       0\n",
       "precio-elect-dia-anterior    0\n",
       "MIBGAS-dia-anterior          0\n",
       "dtype: int64"
      ]
     },
     "execution_count": 25,
     "metadata": {},
     "output_type": "execute_result"
    }
   ],
   "source": [
    "# Comprobar si faltan datos en los atributos\n",
    "X.isna().sum()"
   ]
  },
  {
   "cell_type": "code",
   "execution_count": 26,
   "metadata": {
    "id": "q13eZKjGxnoN",
    "scrolled": true
   },
   "outputs": [],
   "source": [
    "# Relleno los missing values de cada atributo con el valor anterior del atributo. \n",
    "X[\"demanda\"].fillna(method='ffill', inplace=True)#reemplaza con el valor siguiente\n",
    "X[\"carbon\"].fillna(method='bfill', inplace=True)#reemplaza con el valor anterior"
   ]
  },
  {
   "cell_type": "code",
   "execution_count": 27,
   "metadata": {
    "id": "AgJ_zJAjxnoN"
   },
   "outputs": [
    {
     "data": {
      "text/plain": [
       "0"
      ]
     },
     "execution_count": 27,
     "metadata": {},
     "output_type": "execute_result"
    }
   ],
   "source": [
    "# Comprobar si faltan datos en el target\n",
    "y.isna().sum()"
   ]
  },
  {
   "cell_type": "code",
   "execution_count": 28,
   "metadata": {
    "id": "BazxISMBxnoN"
   },
   "outputs": [
    {
     "data": {
      "text/plain": [
       "hora                         0\n",
       "dia                          0\n",
       "mes                          0\n",
       "hidraul                      0\n",
       "eolica                       0\n",
       "demanda                      0\n",
       "ciclocomb                    0\n",
       "cogener                      0\n",
       "nuclear                      0\n",
       "carbon                       0\n",
       "biomas                       0\n",
       "precio-elect-dia-anterior    0\n",
       "MIBGAS-dia-anterior          0\n",
       "dtype: int64"
      ]
     },
     "execution_count": 28,
     "metadata": {},
     "output_type": "execute_result"
    }
   ],
   "source": [
    "# Comprueba que no falta ningún valor\n",
    "X.isna().sum()"
   ]
  },
  {
   "cell_type": "markdown",
   "metadata": {
    "id": "BhRtk1GsxnoN"
   },
   "source": [
    "\n",
    "<div class=\"alert alert-success\">\n",
    "    <b> Feature engineering</b>\n",
    "</div>\n",
    "\n",
    "\n",
    "\n",
    "Utilizando la matriz de correlación, eliminar los atributos con una correlacion cercana a 0 con la etiqueta **\"precio\"**. \n",
    "\n",
    "* **¿Qué atributo(s) se elimana(n)?** "
   ]
  },
  {
   "cell_type": "code",
   "execution_count": 29,
   "metadata": {
    "id": "eKvDXGWwxnoO"
   },
   "outputs": [
    {
     "data": {
      "text/html": [
       "<div>\n",
       "<style scoped>\n",
       "    .dataframe tbody tr th:only-of-type {\n",
       "        vertical-align: middle;\n",
       "    }\n",
       "\n",
       "    .dataframe tbody tr th {\n",
       "        vertical-align: top;\n",
       "    }\n",
       "\n",
       "    .dataframe thead th {\n",
       "        text-align: right;\n",
       "    }\n",
       "</style>\n",
       "<table border=\"1\" class=\"dataframe\">\n",
       "  <thead>\n",
       "    <tr style=\"text-align: right;\">\n",
       "      <th></th>\n",
       "      <th>hora</th>\n",
       "      <th>mes</th>\n",
       "      <th>hidraul</th>\n",
       "      <th>demanda</th>\n",
       "      <th>ciclocomb</th>\n",
       "      <th>cogener</th>\n",
       "      <th>nuclear</th>\n",
       "      <th>carbon</th>\n",
       "      <th>precio-elect-dia-anterior</th>\n",
       "      <th>MIBGAS-dia-anterior</th>\n",
       "    </tr>\n",
       "  </thead>\n",
       "  <tbody>\n",
       "    <tr>\n",
       "      <th>0</th>\n",
       "      <td>0</td>\n",
       "      <td>1</td>\n",
       "      <td>5221.1</td>\n",
       "      <td>13290.5</td>\n",
       "      <td>2500.5</td>\n",
       "      <td>2493.8</td>\n",
       "      <td>7093.6</td>\n",
       "      <td>430.0</td>\n",
       "      <td>41.88</td>\n",
       "      <td>11.27</td>\n",
       "    </tr>\n",
       "    <tr>\n",
       "      <th>1</th>\n",
       "      <td>1</td>\n",
       "      <td>1</td>\n",
       "      <td>4928.5</td>\n",
       "      <td>12720.1</td>\n",
       "      <td>2411.5</td>\n",
       "      <td>2447.8</td>\n",
       "      <td>7091.6</td>\n",
       "      <td>430.0</td>\n",
       "      <td>38.60</td>\n",
       "      <td>11.27</td>\n",
       "    </tr>\n",
       "    <tr>\n",
       "      <th>2</th>\n",
       "      <td>2</td>\n",
       "      <td>1</td>\n",
       "      <td>4860.3</td>\n",
       "      <td>12558.6</td>\n",
       "      <td>2307.5</td>\n",
       "      <td>2446.6</td>\n",
       "      <td>7092.6</td>\n",
       "      <td>417.0</td>\n",
       "      <td>36.55</td>\n",
       "      <td>11.27</td>\n",
       "    </tr>\n",
       "    <tr>\n",
       "      <th>3</th>\n",
       "      <td>3</td>\n",
       "      <td>1</td>\n",
       "      <td>4980.8</td>\n",
       "      <td>12837.5</td>\n",
       "      <td>2307.5</td>\n",
       "      <td>2436.7</td>\n",
       "      <td>7092.6</td>\n",
       "      <td>387.0</td>\n",
       "      <td>32.32</td>\n",
       "      <td>11.27</td>\n",
       "    </tr>\n",
       "    <tr>\n",
       "      <th>4</th>\n",
       "      <td>4</td>\n",
       "      <td>1</td>\n",
       "      <td>4984.3</td>\n",
       "      <td>13100.9</td>\n",
       "      <td>2374.2</td>\n",
       "      <td>2448.3</td>\n",
       "      <td>7094.6</td>\n",
       "      <td>387.0</td>\n",
       "      <td>30.85</td>\n",
       "      <td>11.27</td>\n",
       "    </tr>\n",
       "    <tr>\n",
       "      <th>...</th>\n",
       "      <td>...</td>\n",
       "      <td>...</td>\n",
       "      <td>...</td>\n",
       "      <td>...</td>\n",
       "      <td>...</td>\n",
       "      <td>...</td>\n",
       "      <td>...</td>\n",
       "      <td>...</td>\n",
       "      <td>...</td>\n",
       "      <td>...</td>\n",
       "    </tr>\n",
       "    <tr>\n",
       "      <th>4218</th>\n",
       "      <td>19</td>\n",
       "      <td>6</td>\n",
       "      <td>4230.5</td>\n",
       "      <td>29267.6</td>\n",
       "      <td>7090.4</td>\n",
       "      <td>3200.0</td>\n",
       "      <td>5061.4</td>\n",
       "      <td>946.0</td>\n",
       "      <td>40.44</td>\n",
       "      <td>7.28</td>\n",
       "    </tr>\n",
       "    <tr>\n",
       "      <th>4219</th>\n",
       "      <td>20</td>\n",
       "      <td>6</td>\n",
       "      <td>4479.3</td>\n",
       "      <td>29025.5</td>\n",
       "      <td>7130.7</td>\n",
       "      <td>3203.2</td>\n",
       "      <td>5063.4</td>\n",
       "      <td>946.0</td>\n",
       "      <td>41.23</td>\n",
       "      <td>7.28</td>\n",
       "    </tr>\n",
       "    <tr>\n",
       "      <th>4220</th>\n",
       "      <td>21</td>\n",
       "      <td>6</td>\n",
       "      <td>3800.5</td>\n",
       "      <td>29266.4</td>\n",
       "      <td>6764.1</td>\n",
       "      <td>3217.7</td>\n",
       "      <td>5062.4</td>\n",
       "      <td>946.0</td>\n",
       "      <td>40.24</td>\n",
       "      <td>7.28</td>\n",
       "    </tr>\n",
       "    <tr>\n",
       "      <th>4221</th>\n",
       "      <td>22</td>\n",
       "      <td>6</td>\n",
       "      <td>3529.7</td>\n",
       "      <td>28711.2</td>\n",
       "      <td>6745.1</td>\n",
       "      <td>3215.0</td>\n",
       "      <td>5064.4</td>\n",
       "      <td>946.0</td>\n",
       "      <td>40.10</td>\n",
       "      <td>7.28</td>\n",
       "    </tr>\n",
       "    <tr>\n",
       "      <th>4222</th>\n",
       "      <td>23</td>\n",
       "      <td>6</td>\n",
       "      <td>2650.6</td>\n",
       "      <td>26581.4</td>\n",
       "      <td>6650.9</td>\n",
       "      <td>3209.0</td>\n",
       "      <td>5065.4</td>\n",
       "      <td>946.0</td>\n",
       "      <td>38.63</td>\n",
       "      <td>7.28</td>\n",
       "    </tr>\n",
       "  </tbody>\n",
       "</table>\n",
       "<p>4223 rows × 10 columns</p>\n",
       "</div>"
      ],
      "text/plain": [
       "      hora  mes  hidraul  demanda  ciclocomb  cogener  nuclear  carbon  \\\n",
       "0        0    1   5221.1  13290.5     2500.5   2493.8   7093.6   430.0   \n",
       "1        1    1   4928.5  12720.1     2411.5   2447.8   7091.6   430.0   \n",
       "2        2    1   4860.3  12558.6     2307.5   2446.6   7092.6   417.0   \n",
       "3        3    1   4980.8  12837.5     2307.5   2436.7   7092.6   387.0   \n",
       "4        4    1   4984.3  13100.9     2374.2   2448.3   7094.6   387.0   \n",
       "...    ...  ...      ...      ...        ...      ...      ...     ...   \n",
       "4218    19    6   4230.5  29267.6     7090.4   3200.0   5061.4   946.0   \n",
       "4219    20    6   4479.3  29025.5     7130.7   3203.2   5063.4   946.0   \n",
       "4220    21    6   3800.5  29266.4     6764.1   3217.7   5062.4   946.0   \n",
       "4221    22    6   3529.7  28711.2     6745.1   3215.0   5064.4   946.0   \n",
       "4222    23    6   2650.6  26581.4     6650.9   3209.0   5065.4   946.0   \n",
       "\n",
       "      precio-elect-dia-anterior  MIBGAS-dia-anterior  \n",
       "0                         41.88                11.27  \n",
       "1                         38.60                11.27  \n",
       "2                         36.55                11.27  \n",
       "3                         32.32                11.27  \n",
       "4                         30.85                11.27  \n",
       "...                         ...                  ...  \n",
       "4218                      40.44                 7.28  \n",
       "4219                      41.23                 7.28  \n",
       "4220                      40.24                 7.28  \n",
       "4221                      40.10                 7.28  \n",
       "4222                      38.63                 7.28  \n",
       "\n",
       "[4223 rows x 10 columns]"
      ]
     },
     "execution_count": 29,
     "metadata": {},
     "output_type": "execute_result"
    }
   ],
   "source": [
    "# Elimino el atributo\n",
    "X.drop(['dia', 'eolica', 'biomas'], axis='columns', inplace=True)\n",
    "X"
   ]
  },
  {
   "cell_type": "markdown",
   "metadata": {
    "id": "FYfz9MyoxnoO"
   },
   "source": [
    "## *5. Dividir los datos*\n",
    " "
   ]
  },
  {
   "cell_type": "code",
   "execution_count": 30,
   "metadata": {
    "id": "-zoa8sI1xnoO"
   },
   "outputs": [],
   "source": [
    "from sklearn.model_selection import train_test_split\n",
    "\n",
    "test_size = 0.2  # porcentaje de los datos de entrada que utilizaré para validar el modelo\n",
    "\n",
    "# Divido los datos en datos de entreno, validación y prueba\n",
    "X_train, X_test, y_train, y_test = train_test_split(X, y, test_size=test_size, random_state=0,\n",
    "                                                    shuffle=True)\n",
    "\n"
   ]
  },
  {
   "cell_type": "markdown",
   "metadata": {
    "id": "GGTdlIInxnoO"
   },
   "source": [
    "\n",
    "<div class=\"alert alert-success\">\n",
    "    <b> Transformación (escalado) </b>\n",
    "</div>\n",
    "\n",
    "* **Escalar los datos utilizando el método de *MinMaxScaler()* dentro del rango [0,1] o StandardScaler()**"
   ]
  },
  {
   "cell_type": "code",
   "execution_count": 31,
   "metadata": {
    "id": "CqvGNMY4xnoO",
    "scrolled": true
   },
   "outputs": [
    {
     "data": {
      "text/html": [
       "<div>\n",
       "<style scoped>\n",
       "    .dataframe tbody tr th:only-of-type {\n",
       "        vertical-align: middle;\n",
       "    }\n",
       "\n",
       "    .dataframe tbody tr th {\n",
       "        vertical-align: top;\n",
       "    }\n",
       "\n",
       "    .dataframe thead th {\n",
       "        text-align: right;\n",
       "    }\n",
       "</style>\n",
       "<table border=\"1\" class=\"dataframe\">\n",
       "  <thead>\n",
       "    <tr style=\"text-align: right;\">\n",
       "      <th></th>\n",
       "      <th>hora</th>\n",
       "      <th>mes</th>\n",
       "      <th>hidraul</th>\n",
       "      <th>demanda</th>\n",
       "      <th>ciclocomb</th>\n",
       "      <th>cogener</th>\n",
       "      <th>nuclear</th>\n",
       "      <th>carbon</th>\n",
       "      <th>precio-elect-dia-anterior</th>\n",
       "      <th>MIBGAS-dia-anterior</th>\n",
       "    </tr>\n",
       "  </thead>\n",
       "  <tbody>\n",
       "    <tr>\n",
       "      <th>0</th>\n",
       "      <td>-1.083134</td>\n",
       "      <td>0.329331</td>\n",
       "      <td>-1.203290</td>\n",
       "      <td>-0.842221</td>\n",
       "      <td>-0.347663</td>\n",
       "      <td>-0.619581</td>\n",
       "      <td>-0.053122</td>\n",
       "      <td>-1.114059</td>\n",
       "      <td>-1.358455</td>\n",
       "      <td>-0.085598</td>\n",
       "    </tr>\n",
       "    <tr>\n",
       "      <th>1</th>\n",
       "      <td>1.077250</td>\n",
       "      <td>-0.869462</td>\n",
       "      <td>1.998926</td>\n",
       "      <td>0.557938</td>\n",
       "      <td>1.682326</td>\n",
       "      <td>1.595980</td>\n",
       "      <td>0.885520</td>\n",
       "      <td>1.995761</td>\n",
       "      <td>1.706970</td>\n",
       "      <td>0.877665</td>\n",
       "    </tr>\n",
       "    <tr>\n",
       "      <th>2</th>\n",
       "      <td>-0.939109</td>\n",
       "      <td>1.528123</td>\n",
       "      <td>-1.207653</td>\n",
       "      <td>-1.286396</td>\n",
       "      <td>-0.117359</td>\n",
       "      <td>0.017248</td>\n",
       "      <td>-0.987973</td>\n",
       "      <td>-0.585163</td>\n",
       "      <td>-0.249881</td>\n",
       "      <td>-1.177870</td>\n",
       "    </tr>\n",
       "    <tr>\n",
       "      <th>3</th>\n",
       "      <td>-1.659237</td>\n",
       "      <td>-0.270065</td>\n",
       "      <td>-0.178111</td>\n",
       "      <td>-0.340333</td>\n",
       "      <td>-0.899924</td>\n",
       "      <td>-0.213050</td>\n",
       "      <td>0.888816</td>\n",
       "      <td>-0.274181</td>\n",
       "      <td>-0.269265</td>\n",
       "      <td>0.421835</td>\n",
       "    </tr>\n",
       "    <tr>\n",
       "      <th>4</th>\n",
       "      <td>1.077250</td>\n",
       "      <td>0.928727</td>\n",
       "      <td>-0.644349</td>\n",
       "      <td>-0.443669</td>\n",
       "      <td>0.051406</td>\n",
       "      <td>0.505577</td>\n",
       "      <td>-1.588872</td>\n",
       "      <td>-0.562463</td>\n",
       "      <td>-0.332032</td>\n",
       "      <td>-1.306878</td>\n",
       "    </tr>\n",
       "  </tbody>\n",
       "</table>\n",
       "</div>"
      ],
      "text/plain": [
       "       hora       mes   hidraul   demanda  ciclocomb   cogener   nuclear  \\\n",
       "0 -1.083134  0.329331 -1.203290 -0.842221  -0.347663 -0.619581 -0.053122   \n",
       "1  1.077250 -0.869462  1.998926  0.557938   1.682326  1.595980  0.885520   \n",
       "2 -0.939109  1.528123 -1.207653 -1.286396  -0.117359  0.017248 -0.987973   \n",
       "3 -1.659237 -0.270065 -0.178111 -0.340333  -0.899924 -0.213050  0.888816   \n",
       "4  1.077250  0.928727 -0.644349 -0.443669   0.051406  0.505577 -1.588872   \n",
       "\n",
       "     carbon  precio-elect-dia-anterior  MIBGAS-dia-anterior  \n",
       "0 -1.114059                  -1.358455            -0.085598  \n",
       "1  1.995761                   1.706970             0.877665  \n",
       "2 -0.585163                  -0.249881            -1.177870  \n",
       "3 -0.274181                  -0.269265             0.421835  \n",
       "4 -0.562463                  -0.332032            -1.306878  "
      ]
     },
     "execution_count": 31,
     "metadata": {},
     "output_type": "execute_result"
    }
   ],
   "source": [
    "from sklearn.preprocessing import MinMaxScaler, StandardScaler\n",
    "\n",
    "# Escalar los datos de entreno\n",
    "scaler = StandardScaler()\n",
    "X_train_scaled = X_train.copy()\n",
    "X_train_scaled = pd.DataFrame(scaler.fit_transform(X_train_scaled))\n",
    "X_train_scaled.columns = X_train.columns\n",
    "X_train_scaled.head()\n",
    "\n"
   ]
  },
  {
   "cell_type": "code",
   "execution_count": 32,
   "metadata": {
    "id": "8QevctZBxnoO"
   },
   "outputs": [
    {
     "name": "stdout",
     "output_type": "stream",
     "text": [
      "Mean of standardized dataset: [1.15204263e+01 3.45056246e+00 3.07969985e+03 2.01786138e+04\n",
      " 2.31806815e+03 3.05568697e+03 6.01455583e+03 6.70787626e+02\n",
      " 2.87171433e+01 8.26905269e+00]\n",
      "Standard deviation of standardized dataset: [6.94320806e+00 1.66834527e+00 1.39800048e+03 3.92119697e+03\n",
      " 1.45764381e+03 2.84848901e+02 1.21334886e+03 4.40539967e+02\n",
      " 1.08337324e+01 2.32542882e+00]\n"
     ]
    }
   ],
   "source": [
    "# Mostrar la media y desviación estándar del dataset escalado\n",
    "print(\"Mean of standardized dataset:\", scaler.mean_)\n",
    "print(\"Standard deviation of standardized dataset:\", scaler.scale_)"
   ]
  },
  {
   "cell_type": "markdown",
   "metadata": {
    "id": "n_m2-M0pxnoO"
   },
   "source": [
    "<div class=\"alert alert-success\">\n",
    "    <b> Escalamos los datos de TEST con la media y desviación estandar del dataset de entreno (X_train) </b>\n",
    "</div>\n"
   ]
  },
  {
   "cell_type": "code",
   "execution_count": 33,
   "metadata": {
    "id": "m1axNjCsxnoO"
   },
   "outputs": [
    {
     "data": {
      "text/html": [
       "<div>\n",
       "<style scoped>\n",
       "    .dataframe tbody tr th:only-of-type {\n",
       "        vertical-align: middle;\n",
       "    }\n",
       "\n",
       "    .dataframe tbody tr th {\n",
       "        vertical-align: top;\n",
       "    }\n",
       "\n",
       "    .dataframe thead th {\n",
       "        text-align: right;\n",
       "    }\n",
       "</style>\n",
       "<table border=\"1\" class=\"dataframe\">\n",
       "  <thead>\n",
       "    <tr style=\"text-align: right;\">\n",
       "      <th></th>\n",
       "      <th>hora</th>\n",
       "      <th>mes</th>\n",
       "      <th>hidraul</th>\n",
       "      <th>demanda</th>\n",
       "      <th>ciclocomb</th>\n",
       "      <th>cogener</th>\n",
       "      <th>nuclear</th>\n",
       "      <th>carbon</th>\n",
       "      <th>precio-elect-dia-anterior</th>\n",
       "      <th>MIBGAS-dia-anterior</th>\n",
       "    </tr>\n",
       "  </thead>\n",
       "  <tbody>\n",
       "    <tr>\n",
       "      <th>0</th>\n",
       "      <td>-0.074955</td>\n",
       "      <td>1.528123</td>\n",
       "      <td>-0.999570</td>\n",
       "      <td>-0.390522</td>\n",
       "      <td>0.818260</td>\n",
       "      <td>-1.110368</td>\n",
       "      <td>-1.604778</td>\n",
       "      <td>-0.342279</td>\n",
       "      <td>0.119336</td>\n",
       "      <td>-1.354182</td>\n",
       "    </tr>\n",
       "    <tr>\n",
       "      <th>1</th>\n",
       "      <td>-0.651057</td>\n",
       "      <td>0.928727</td>\n",
       "      <td>-0.654005</td>\n",
       "      <td>-1.526782</td>\n",
       "      <td>-0.356581</td>\n",
       "      <td>-0.831623</td>\n",
       "      <td>-1.595300</td>\n",
       "      <td>-1.114059</td>\n",
       "      <td>-1.081543</td>\n",
       "      <td>-1.736907</td>\n",
       "    </tr>\n",
       "    <tr>\n",
       "      <th>2</th>\n",
       "      <td>-0.363006</td>\n",
       "      <td>-0.270065</td>\n",
       "      <td>-0.645422</td>\n",
       "      <td>2.954018</td>\n",
       "      <td>-1.274707</td>\n",
       "      <td>0.492236</td>\n",
       "      <td>0.387806</td>\n",
       "      <td>-0.228782</td>\n",
       "      <td>-0.343108</td>\n",
       "      <td>0.073512</td>\n",
       "    </tr>\n",
       "    <tr>\n",
       "      <th>3</th>\n",
       "      <td>-1.659237</td>\n",
       "      <td>1.528123</td>\n",
       "      <td>-1.145064</td>\n",
       "      <td>-0.860022</td>\n",
       "      <td>-0.209426</td>\n",
       "      <td>0.324779</td>\n",
       "      <td>-0.996956</td>\n",
       "      <td>-0.564733</td>\n",
       "      <td>-0.244343</td>\n",
       "      <td>-1.177870</td>\n",
       "    </tr>\n",
       "    <tr>\n",
       "      <th>4</th>\n",
       "      <td>-0.507032</td>\n",
       "      <td>-0.869462</td>\n",
       "      <td>1.499284</td>\n",
       "      <td>0.785649</td>\n",
       "      <td>1.566797</td>\n",
       "      <td>1.442565</td>\n",
       "      <td>0.885520</td>\n",
       "      <td>1.859564</td>\n",
       "      <td>1.457748</td>\n",
       "      <td>0.877665</td>\n",
       "    </tr>\n",
       "  </tbody>\n",
       "</table>\n",
       "</div>"
      ],
      "text/plain": [
       "       hora       mes   hidraul   demanda  ciclocomb   cogener   nuclear  \\\n",
       "0 -0.074955  1.528123 -0.999570 -0.390522   0.818260 -1.110368 -1.604778   \n",
       "1 -0.651057  0.928727 -0.654005 -1.526782  -0.356581 -0.831623 -1.595300   \n",
       "2 -0.363006 -0.270065 -0.645422  2.954018  -1.274707  0.492236  0.387806   \n",
       "3 -1.659237  1.528123 -1.145064 -0.860022  -0.209426  0.324779 -0.996956   \n",
       "4 -0.507032 -0.869462  1.499284  0.785649   1.566797  1.442565  0.885520   \n",
       "\n",
       "     carbon  precio-elect-dia-anterior  MIBGAS-dia-anterior  \n",
       "0 -0.342279                   0.119336            -1.354182  \n",
       "1 -1.114059                  -1.081543            -1.736907  \n",
       "2 -0.228782                  -0.343108             0.073512  \n",
       "3 -0.564733                  -0.244343            -1.177870  \n",
       "4  1.859564                   1.457748             0.877665  "
      ]
     },
     "execution_count": 33,
     "metadata": {},
     "output_type": "execute_result"
    }
   ],
   "source": [
    "\n",
    "# Escalar los datos de test\n",
    "X_test_scaled = X_test.copy()\n",
    "X_test_scaled = pd.DataFrame(scaler.transform(X_test_scaled))\n",
    "X_test_scaled.columns = X_test.columns\n",
    "X_test_scaled.head()\n"
   ]
  },
  {
   "cell_type": "markdown",
   "metadata": {
    "id": "9m6YjmZcxnoO"
   },
   "source": [
    "<div class=\"alert alert-success\">\n",
    "    <b> Dividimos los datos en entreno en:\n",
    "        datos de entreno y \n",
    "     datos de validación </b>\n",
    "</div>\n"
   ]
  },
  {
   "cell_type": "code",
   "execution_count": 34,
   "metadata": {
    "id": "frmFgr6NxnoP"
   },
   "outputs": [],
   "source": [
    "# Dividimos los datos en entreno (80%) y validación (15%)\n",
    "\n",
    "val_size = 0.20  # porcentaje de los datos de entrada que utilizaré para validar el modelo\n",
    "\n",
    "X_train_scaled, X_val_scaled, y_train, y_val = train_test_split(X_train_scaled, y_train, test_size=val_size, random_state=0,\n",
    "                                                    shuffle=True)"
   ]
  },
  {
   "cell_type": "code",
   "execution_count": 35,
   "metadata": {
    "id": "0FpAyF5LxnoP"
   },
   "outputs": [
    {
     "data": {
      "text/html": [
       "<div>\n",
       "<style scoped>\n",
       "    .dataframe tbody tr th:only-of-type {\n",
       "        vertical-align: middle;\n",
       "    }\n",
       "\n",
       "    .dataframe tbody tr th {\n",
       "        vertical-align: top;\n",
       "    }\n",
       "\n",
       "    .dataframe thead th {\n",
       "        text-align: right;\n",
       "    }\n",
       "</style>\n",
       "<table border=\"1\" class=\"dataframe\">\n",
       "  <thead>\n",
       "    <tr style=\"text-align: right;\">\n",
       "      <th></th>\n",
       "      <th>hora</th>\n",
       "      <th>mes</th>\n",
       "      <th>hidraul</th>\n",
       "      <th>demanda</th>\n",
       "      <th>ciclocomb</th>\n",
       "      <th>cogener</th>\n",
       "      <th>nuclear</th>\n",
       "      <th>carbon</th>\n",
       "      <th>precio-elect-dia-anterior</th>\n",
       "      <th>MIBGAS-dia-anterior</th>\n",
       "    </tr>\n",
       "  </thead>\n",
       "  <tbody>\n",
       "    <tr>\n",
       "      <th>1296</th>\n",
       "      <td>1.077250</td>\n",
       "      <td>-0.869462</td>\n",
       "      <td>0.238126</td>\n",
       "      <td>-0.412658</td>\n",
       "      <td>-0.146173</td>\n",
       "      <td>0.636172</td>\n",
       "      <td>0.881069</td>\n",
       "      <td>0.656495</td>\n",
       "      <td>0.999919</td>\n",
       "      <td>0.456237</td>\n",
       "    </tr>\n",
       "    <tr>\n",
       "      <th>663</th>\n",
       "      <td>0.645173</td>\n",
       "      <td>1.528123</td>\n",
       "      <td>-1.238912</td>\n",
       "      <td>2.615703</td>\n",
       "      <td>2.970363</td>\n",
       "      <td>0.450811</td>\n",
       "      <td>-0.782426</td>\n",
       "      <td>0.731403</td>\n",
       "      <td>0.557782</td>\n",
       "      <td>-0.425321</td>\n",
       "    </tr>\n",
       "    <tr>\n",
       "      <th>648</th>\n",
       "      <td>0.069071</td>\n",
       "      <td>-1.468858</td>\n",
       "      <td>0.249285</td>\n",
       "      <td>1.067400</td>\n",
       "      <td>0.272173</td>\n",
       "      <td>1.506107</td>\n",
       "      <td>0.892607</td>\n",
       "      <td>1.700668</td>\n",
       "      <td>1.167913</td>\n",
       "      <td>1.299093</td>\n",
       "    </tr>\n",
       "    <tr>\n",
       "      <th>2709</th>\n",
       "      <td>1.653353</td>\n",
       "      <td>1.528123</td>\n",
       "      <td>-1.193133</td>\n",
       "      <td>1.234492</td>\n",
       "      <td>1.395219</td>\n",
       "      <td>0.491183</td>\n",
       "      <td>0.440718</td>\n",
       "      <td>-0.562463</td>\n",
       "      <td>0.396249</td>\n",
       "      <td>-0.605932</td>\n",
       "    </tr>\n",
       "    <tr>\n",
       "      <th>1678</th>\n",
       "      <td>-0.218980</td>\n",
       "      <td>1.528123</td>\n",
       "      <td>-0.498784</td>\n",
       "      <td>0.104837</td>\n",
       "      <td>0.494862</td>\n",
       "      <td>0.477843</td>\n",
       "      <td>-0.785146</td>\n",
       "      <td>-0.342279</td>\n",
       "      <td>-0.020043</td>\n",
       "      <td>-0.971456</td>\n",
       "    </tr>\n",
       "    <tr>\n",
       "      <th>...</th>\n",
       "      <td>...</td>\n",
       "      <td>...</td>\n",
       "      <td>...</td>\n",
       "      <td>...</td>\n",
       "      <td>...</td>\n",
       "      <td>...</td>\n",
       "      <td>...</td>\n",
       "      <td>...</td>\n",
       "      <td>...</td>\n",
       "      <td>...</td>\n",
       "    </tr>\n",
       "    <tr>\n",
       "      <th>1929</th>\n",
       "      <td>-0.363006</td>\n",
       "      <td>0.329331</td>\n",
       "      <td>0.290343</td>\n",
       "      <td>0.309213</td>\n",
       "      <td>-0.618648</td>\n",
       "      <td>0.188918</td>\n",
       "      <td>0.630935</td>\n",
       "      <td>-0.585163</td>\n",
       "      <td>-0.389260</td>\n",
       "      <td>0.142317</td>\n",
       "    </tr>\n",
       "    <tr>\n",
       "      <th>235</th>\n",
       "      <td>-0.074955</td>\n",
       "      <td>-1.468858</td>\n",
       "      <td>1.439914</td>\n",
       "      <td>1.299855</td>\n",
       "      <td>2.050248</td>\n",
       "      <td>1.561575</td>\n",
       "      <td>0.889393</td>\n",
       "      <td>1.682509</td>\n",
       "      <td>1.939577</td>\n",
       "      <td>2.086044</td>\n",
       "    </tr>\n",
       "    <tr>\n",
       "      <th>2410</th>\n",
       "      <td>0.069071</td>\n",
       "      <td>0.329331</td>\n",
       "      <td>-0.288197</td>\n",
       "      <td>-0.305140</td>\n",
       "      <td>-1.061211</td>\n",
       "      <td>0.227535</td>\n",
       "      <td>-0.078507</td>\n",
       "      <td>-0.971053</td>\n",
       "      <td>-1.169232</td>\n",
       "      <td>-0.442522</td>\n",
       "    </tr>\n",
       "    <tr>\n",
       "      <th>1957</th>\n",
       "      <td>-0.363006</td>\n",
       "      <td>1.528123</td>\n",
       "      <td>-1.134406</td>\n",
       "      <td>-1.032341</td>\n",
       "      <td>0.508857</td>\n",
       "      <td>-1.268346</td>\n",
       "      <td>-1.599833</td>\n",
       "      <td>-0.585163</td>\n",
       "      <td>-0.251727</td>\n",
       "      <td>-1.354182</td>\n",
       "    </tr>\n",
       "    <tr>\n",
       "      <th>817</th>\n",
       "      <td>-0.651057</td>\n",
       "      <td>-1.468858</td>\n",
       "      <td>-0.220601</td>\n",
       "      <td>-1.135754</td>\n",
       "      <td>-0.090124</td>\n",
       "      <td>0.227535</td>\n",
       "      <td>0.888899</td>\n",
       "      <td>1.160422</td>\n",
       "      <td>0.857771</td>\n",
       "      <td>1.548509</td>\n",
       "    </tr>\n",
       "  </tbody>\n",
       "</table>\n",
       "<p>676 rows × 10 columns</p>\n",
       "</div>"
      ],
      "text/plain": [
       "          hora       mes   hidraul   demanda  ciclocomb   cogener   nuclear  \\\n",
       "1296  1.077250 -0.869462  0.238126 -0.412658  -0.146173  0.636172  0.881069   \n",
       "663   0.645173  1.528123 -1.238912  2.615703   2.970363  0.450811 -0.782426   \n",
       "648   0.069071 -1.468858  0.249285  1.067400   0.272173  1.506107  0.892607   \n",
       "2709  1.653353  1.528123 -1.193133  1.234492   1.395219  0.491183  0.440718   \n",
       "1678 -0.218980  1.528123 -0.498784  0.104837   0.494862  0.477843 -0.785146   \n",
       "...        ...       ...       ...       ...        ...       ...       ...   \n",
       "1929 -0.363006  0.329331  0.290343  0.309213  -0.618648  0.188918  0.630935   \n",
       "235  -0.074955 -1.468858  1.439914  1.299855   2.050248  1.561575  0.889393   \n",
       "2410  0.069071  0.329331 -0.288197 -0.305140  -1.061211  0.227535 -0.078507   \n",
       "1957 -0.363006  1.528123 -1.134406 -1.032341   0.508857 -1.268346 -1.599833   \n",
       "817  -0.651057 -1.468858 -0.220601 -1.135754  -0.090124  0.227535  0.888899   \n",
       "\n",
       "        carbon  precio-elect-dia-anterior  MIBGAS-dia-anterior  \n",
       "1296  0.656495                   0.999919             0.456237  \n",
       "663   0.731403                   0.557782            -0.425321  \n",
       "648   1.700668                   1.167913             1.299093  \n",
       "2709 -0.562463                   0.396249            -0.605932  \n",
       "1678 -0.342279                  -0.020043            -0.971456  \n",
       "...        ...                        ...                  ...  \n",
       "1929 -0.585163                  -0.389260             0.142317  \n",
       "235   1.682509                   1.939577             2.086044  \n",
       "2410 -0.971053                  -1.169232            -0.442522  \n",
       "1957 -0.585163                  -0.251727            -1.354182  \n",
       "817   1.160422                   0.857771             1.548509  \n",
       "\n",
       "[676 rows x 10 columns]"
      ]
     },
     "execution_count": 35,
     "metadata": {},
     "output_type": "execute_result"
    }
   ],
   "source": [
    "X_val_scaled"
   ]
  },
  {
   "cell_type": "code",
   "execution_count": 36,
   "metadata": {
    "id": "n-_U_K2jxnoP"
   },
   "outputs": [
    {
     "name": "stdout",
     "output_type": "stream",
     "text": [
      "Tamañano de los datos de ENTRENO: (2702, 10)\n",
      "Tamañano de los datos de TEST: (845, 10)\n",
      "Tamañano de los datos de VALIDACIÓN (cálculo de hiperparámetros): (676, 10)\n"
     ]
    }
   ],
   "source": [
    "print('Tamañano de los datos de ENTRENO:', X_train_scaled.shape)\n",
    "print('Tamañano de los datos de TEST:', X_test_scaled.shape)\n",
    "print('Tamañano de los datos de VALIDACIÓN (cálculo de hiperparámetros):', X_val_scaled.shape)"
   ]
  },
  {
   "cell_type": "markdown",
   "metadata": {
    "id": "BuN5HG4jxnoP"
   },
   "source": [
    "## *6. Construcción y evaluación de modelos*"
   ]
  },
  {
   "cell_type": "markdown",
   "metadata": {
    "id": "74eGEZwQxnoP"
   },
   "source": [
    "* Seleccionamos **[balanced_accuracy]** como métrica de evaluación. \n",
    "* Métricas de evaluación disponibles en [Scikit-Learn].\n",
    "\n",
    "\n",
    "[Scikit-Learn]: https://scikit-learn.org/stable/modules/model_evaluation.html\n",
    "\n",
    "[balanced_accuracy]: https://scikit-learn.org/stable/modules/generated/sklearn.metrics.balanced_accuracy_score.html\n",
    "\n",
    "* Recordar utilizar siempre el mismo random_state para poder comparar resultados. "
   ]
  },
  {
   "cell_type": "code",
   "execution_count": 44,
   "metadata": {},
   "outputs": [
    {
     "name": "stdout",
     "output_type": "stream",
     "text": [
      "Defaulting to user installation because normal site-packages is not writeable\n",
      "Requirement already satisfied: xgboost in c:\\users\\56965\\appdata\\roaming\\python\\python39\\site-packages (1.7.5)\n",
      "Requirement already satisfied: scipy in c:\\programdata\\anaconda3\\lib\\site-packages (from xgboost) (1.7.3)\n",
      "Requirement already satisfied: numpy in c:\\programdata\\anaconda3\\lib\\site-packages (from xgboost) (1.21.5)\n"
     ]
    }
   ],
   "source": [
    "#!pip install xgboost"
   ]
  },
  {
   "cell_type": "code",
   "execution_count": 71,
   "metadata": {},
   "outputs": [],
   "source": [
    "from sklearn.linear_model import LogisticRegression\n",
    "from sklearn.ensemble import RandomForestClassifier\n",
    "from sklearn.neighbors import KNeighborsClassifier\n",
    "from sklearn.neural_network import MLPClassifier\n",
    "from sklearn.metrics import balanced_accuracy_score\n",
    "from sklearn.model_selection import cross_val_score, GridSearchCV\n",
    "from sklearn.model_selection import StratifiedKFold\n",
    "import xgboost as xgb"
   ]
  },
  {
   "cell_type": "markdown",
   "metadata": {},
   "source": [
    "<div class=\"alert alert-success\">\n",
    "    <b> Modelo LogisticRegression</b>\n",
    "</div>"
   ]
  },
  {
   "cell_type": "code",
   "execution_count": 56,
   "metadata": {},
   "outputs": [
    {
     "data": {
      "text/plain": [
       "0.871330789093947"
      ]
     },
     "execution_count": 56,
     "metadata": {},
     "output_type": "execute_result"
    }
   ],
   "source": [
    "model_log = LogisticRegression(random_state=0).fit(X_train_scaled, y_train)\n",
    "y_pred = model_log.predict(X_test_scaled)\n",
    "balanced_accuracy_score(y_test, y_pred)"
   ]
  },
  {
   "cell_type": "markdown",
   "metadata": {},
   "source": [
    "<div class=\"alert alert-success\">\n",
    "    <b> Modelo RandomForestClassifier</b>\n",
    "</div>"
   ]
  },
  {
   "cell_type": "code",
   "execution_count": 57,
   "metadata": {},
   "outputs": [
    {
     "data": {
      "text/plain": [
       "0.8463725601883496"
      ]
     },
     "execution_count": 57,
     "metadata": {},
     "output_type": "execute_result"
    }
   ],
   "source": [
    "model_ran = RandomForestClassifier(max_depth=2, random_state=0)\n",
    "model_ran.fit(X_train_scaled, y_train)\n",
    "y_pred_ran = model_ran.predict(X_test_scaled)\n",
    "balanced_accuracy_score(y_test, y_pred_ran)"
   ]
  },
  {
   "cell_type": "markdown",
   "metadata": {},
   "source": [
    "<div class=\"alert alert-success\">\n",
    "    <b> Modelo KNeighborsClassifier</b>\n",
    "</div>"
   ]
  },
  {
   "cell_type": "code",
   "execution_count": 72,
   "metadata": {},
   "outputs": [
    {
     "data": {
      "text/plain": [
       "0.8706092883724463"
      ]
     },
     "execution_count": 72,
     "metadata": {},
     "output_type": "execute_result"
    }
   ],
   "source": [
    "model_kn = KNeighborsClassifier(n_neighbors=3)\n",
    "model_kn.fit(X_train_scaled, y_train)\n",
    "y_pred_kn = model_kn.predict(X_test_scaled)\n",
    "balanced_accuracy_score(y_test, y_pred_kn)"
   ]
  },
  {
   "cell_type": "markdown",
   "metadata": {},
   "source": [
    "<div class=\"alert alert-success\">\n",
    "    <b> Modelo MLPClassifier</b>\n",
    "</div>"
   ]
  },
  {
   "cell_type": "code",
   "execution_count": 59,
   "metadata": {},
   "outputs": [
    {
     "data": {
      "text/plain": [
       "0.8891357180830866"
      ]
     },
     "execution_count": 59,
     "metadata": {},
     "output_type": "execute_result"
    }
   ],
   "source": [
    "model_mlp = MLPClassifier(random_state=1, max_iter=300)\n",
    "model_mlp.fit(X_train_scaled, y_train)\n",
    "y_pred_mlp = model_mlp.predict(X_test_scaled)\n",
    "balanced_accuracy_score(y_test, y_pred_mlp)"
   ]
  },
  {
   "cell_type": "markdown",
   "metadata": {},
   "source": [
    "<div class=\"alert alert-success\">\n",
    "    <b>Cross Validation</b>\n",
    "</div>"
   ]
  },
  {
   "cell_type": "markdown",
   "metadata": {},
   "source": [
    "<img src=\"https://raw.githubusercontent.com/pelaokano/inel_ML/main/Modulo5/imagenes/grid_search_cross_validation.png\">"
   ]
  },
  {
   "cell_type": "markdown",
   "metadata": {},
   "source": [
    "<div class=\"alert alert-success\">\n",
    "    <b> StratifiedKFold vs KFold</b>\n",
    "</div>"
   ]
  },
  {
   "cell_type": "markdown",
   "metadata": {},
   "source": [
    "<img src=\"https://raw.githubusercontent.com/pelaokano/inel_ML/main/Modulo5/imagenes/kfold.jpeg\">"
   ]
  },
  {
   "cell_type": "code",
   "execution_count": 61,
   "metadata": {},
   "outputs": [],
   "source": [
    "model_log = LogisticRegression(random_state=0)\n",
    "cross_validation = StratifiedKFold(n_splits=10, random_state=0, shuffle=True)\n",
    "cv_results = cross_val_score(model_log, X_train_scaled, y_train, cv=cross_validation, scoring='balanced_accuracy')"
   ]
  },
  {
   "cell_type": "code",
   "execution_count": 68,
   "metadata": {},
   "outputs": [
    {
     "data": {
      "text/plain": [
       "array([0.86487923, 0.77571288, 0.86888889, 0.77777778, 0.84888889,\n",
       "       0.85555556, 0.83777778, 0.82666667, 0.80444444, 0.84444444])"
      ]
     },
     "execution_count": 68,
     "metadata": {},
     "output_type": "execute_result"
    }
   ],
   "source": [
    "cv_results"
   ]
  },
  {
   "cell_type": "markdown",
   "metadata": {
    "id": "G0Qm-ia2xnoQ"
   },
   "source": [
    "<div class=\"alert alert-success\">\n",
    "    <b> ¿Cuál obtiene mejores resultados? ¿Qué balanced_accuracy obtiene?</b>\n",
    "</div>\n"
   ]
  },
  {
   "cell_type": "code",
   "execution_count": 69,
   "metadata": {
    "id": "OsPlwjHNxnoQ",
    "scrolled": true
   },
   "outputs": [
    {
     "name": "stdout",
     "output_type": "stream",
     "text": [
      "Métrica de evaluación:  balanced_accuracy\n",
      "Modelo  RF\n",
      "Modelo  LR\n",
      "Modelo  XGB\n",
      "Modelo  KNN\n",
      "[('RF', 0.8798467089178476, 0.035407800166889956), ('LR', 0.8327429561584657, 0.04771422367234584), ('XGB', 0.8841062451043226, 0.033298901872182866), ('KNN', 0.8540976049751953, 0.05211861542423095)]\n"
     ]
    },
    {
     "data": {
      "image/png": "[encoded data removed]",
      "text/plain": [
       "<Figure size 432x288 with 1 Axes>"
      ]
     },
     "metadata": {
      "needs_background": "light"
     },
     "output_type": "display_data"
    },
    {
     "name": "stdout",
     "output_type": "stream",
     "text": [
      "Métrica de evaluación:  f1_weighted\n",
      "Modelo  RF\n",
      "Modelo  LR\n",
      "Modelo  XGB\n",
      "Modelo  KNN\n",
      "[('RF', 0.8798467089178476, 0.035407800166889956), ('LR', 0.8327429561584657, 0.04771422367234584), ('XGB', 0.8841062451043226, 0.033298901872182866), ('KNN', 0.8540976049751953, 0.05211861542423095), ('RF', 0.9438145620990167, 0.015661486538543688), ('LR', 0.9110578711160234, 0.024979268142568612), ('XGB', 0.941793460382167, 0.015392057522286194), ('KNN', 0.9274405104494634, 0.021180683899229943)]\n"
     ]
    },
    {
     "data": {
      "image/png": "[encoded data removed]",
      "text/plain": [
       "<Figure size 432x288 with 1 Axes>"
      ]
     },
     "metadata": {
      "needs_background": "light"
     },
     "output_type": "display_data"
    }
   ],
   "source": [
    "num_folds = 15\n",
    "error_metrics = {'balanced_accuracy', 'f1_weighted'}\n",
    "models = { ('LR', LogisticRegression(solver='saga')),\n",
    "          ('KNN', KNeighborsClassifier()),\n",
    "           ('RF', RandomForestClassifier()), \n",
    "           ('XGB', xgb.XGBClassifier())\n",
    "         }\n",
    "\n",
    "ite=0\n",
    "\n",
    "results = [] # guarda los resultados de las métricas de evaluación\n",
    "names = []  # Nombre de cada algoritmo\n",
    "msg = []  # imprime el resumen del método de cross-validation\n",
    "\n",
    "# Entreno con validación cruzada\n",
    "for scoring in error_metrics:\n",
    "    print('Métrica de evaluación: ', scoring)\n",
    "    for name, model in models:\n",
    "        print('Modelo ', name)\n",
    "        cross_validation = StratifiedKFold(n_splits=num_folds, random_state=0, shuffle=True)\n",
    "        cv_results = cross_val_score(model, X_train_scaled, y_train, cv=cross_validation, scoring=scoring)\n",
    "        #print(cv_results)\n",
    "        results.append(cv_results)\n",
    "        if ite == 0:\n",
    "            names.append(name)\n",
    "        resume = (name, cv_results.mean(), cv_results.std())\n",
    "        msg.append(resume)\n",
    "    print(msg)\n",
    "\n",
    "    # Comparar resultados entre algoritmos\n",
    "    fig = plt.figure()\n",
    "    fig.suptitle('Comparación de algoritmos con métrica de evaluación: %s' %scoring)\n",
    "    ax = fig.add_subplot(111)\n",
    "    ax.set_xlabel('Modelos candidatos')\n",
    "    ax.set_ylabel('%s' %scoring)\n",
    "    plt.boxplot(results)\n",
    "    ax.set_xticklabels(names)\n",
    "    plt.show()\n",
    "\n",
    "    results = []\n",
    "    \n",
    "    ite += 1"
   ]
  },
  {
   "cell_type": "markdown",
   "metadata": {
    "id": "oyB6bWylxnoQ"
   },
   "source": [
    "## *7. Ajustar hiperparámetros*\n",
    "\n",
    "Pasos para realizar el hiperajuste de los parámetros:\n",
    "[XGBClassifier] parámeteros\n",
    "\n",
    "* Métrica para optimizar: *balanced_accuracy*\n",
    "* Definir los rangos de los parámetros de búsqueda: *params*\n",
    "* Entrenar con los datos de validación: *X_val*\n",
    "\n",
    "[XGBClassifier]:https://xgboost.readthedocs.io/en/latest/parameter.html"
   ]
  },
  {
   "cell_type": "code",
   "execution_count": 70,
   "metadata": {
    "id": "HXo6V1WVxnoQ"
   },
   "outputs": [
    {
     "name": "stdout",
     "output_type": "stream",
     "text": [
      "Fitting 10 folds for each of 4 candidates, totalling 40 fits\n",
      "[CV] END ............................booster=gbtree, eta=0.1; total time=   0.1s\n",
      "[CV] END ............................booster=gbtree, eta=0.1; total time=   0.0s\n",
      "[CV] END ............................booster=gbtree, eta=0.1; total time=   0.0s\n",
      "[CV] END ............................booster=gbtree, eta=0.1; total time=   0.0s\n",
      "[CV] END ............................booster=gbtree, eta=0.1; total time=   0.0s\n",
      "[CV] END ............................booster=gbtree, eta=0.1; total time=   0.0s\n",
      "[CV] END ............................booster=gbtree, eta=0.1; total time=   0.0s\n",
      "[CV] END ............................booster=gbtree, eta=0.1; total time=   0.0s\n",
      "[CV] END ............................booster=gbtree, eta=0.1; total time=   0.0s\n",
      "[CV] END ............................booster=gbtree, eta=0.1; total time=   0.0s\n",
      "[CV] END ............................booster=gbtree, eta=0.3; total time=   0.0s\n",
      "[CV] END ............................booster=gbtree, eta=0.3; total time=   0.0s\n",
      "[CV] END ............................booster=gbtree, eta=0.3; total time=   0.0s\n",
      "[CV] END ............................booster=gbtree, eta=0.3; total time=   0.0s\n",
      "[CV] END ............................booster=gbtree, eta=0.3; total time=   0.0s\n",
      "[CV] END ............................booster=gbtree, eta=0.3; total time=   0.0s\n",
      "[CV] END ............................booster=gbtree, eta=0.3; total time=   0.0s\n",
      "[CV] END ............................booster=gbtree, eta=0.3; total time=   0.0s\n",
      "[CV] END ............................booster=gbtree, eta=0.3; total time=   0.0s\n",
      "[CV] END ............................booster=gbtree, eta=0.3; total time=   0.0s\n",
      "[CV] END ..............................booster=dart, eta=0.1; total time=   0.8s\n",
      "[CV] END ..............................booster=dart, eta=0.1; total time=   0.9s\n",
      "[CV] END ..............................booster=dart, eta=0.1; total time=   0.9s\n",
      "[CV] END ..............................booster=dart, eta=0.1; total time=   0.8s\n",
      "[CV] END ..............................booster=dart, eta=0.1; total time=   0.9s\n",
      "[CV] END ..............................booster=dart, eta=0.1; total time=   0.8s\n",
      "[CV] END ..............................booster=dart, eta=0.1; total time=   0.9s\n",
      "[CV] END ..............................booster=dart, eta=0.1; total time=   0.8s\n",
      "[CV] END ..............................booster=dart, eta=0.1; total time=   1.0s\n",
      "[CV] END ..............................booster=dart, eta=0.1; total time=   0.8s\n",
      "[CV] END ..............................booster=dart, eta=0.3; total time=   0.9s\n",
      "[CV] END ..............................booster=dart, eta=0.3; total time=   0.9s\n",
      "[CV] END ..............................booster=dart, eta=0.3; total time=   0.8s\n",
      "[CV] END ..............................booster=dart, eta=0.3; total time=   0.7s\n",
      "[CV] END ..............................booster=dart, eta=0.3; total time=   0.9s\n",
      "[CV] END ..............................booster=dart, eta=0.3; total time=   0.8s\n",
      "[CV] END ..............................booster=dart, eta=0.3; total time=   0.8s\n",
      "[CV] END ..............................booster=dart, eta=0.3; total time=   0.9s\n",
      "[CV] END ..............................booster=dart, eta=0.3; total time=   0.8s\n",
      "[CV] END ..............................booster=dart, eta=0.3; total time=   0.9s\n",
      "Mejor resultado: 0.841942 utilizando los siguientes hiperparámetros {'booster': 'gbtree', 'eta': 0.3}\n"
     ]
    }
   ],
   "source": [
    "\n",
    "from sklearn.model_selection import StratifiedKFold\n",
    "\n",
    "# XGBOOST\n",
    "modelo = xgb.XGBClassifier()\n",
    "params = {\n",
    "     'booster': ['gbtree', 'dart'], #default=gbtree\n",
    "     'eta': [0.1, 0.3], #default=0.3\n",
    "     # 'max_depth': [3, 6, 8],  #default=6\n",
    "     #'predictor': ['auto', 'gpu_predictor'] # default auto\n",
    " }\n",
    "scoring='balanced_accuracy'\n",
    "cross_validation = StratifiedKFold(n_splits=10)\n",
    "my_cv = cross_validation.split(X_val_scaled, y_val)\n",
    "gsearch = GridSearchCV(estimator=modelo, param_grid=params, scoring=scoring, cv=my_cv, verbose=2)\n",
    "gsearch.fit(X_val_scaled, y_val)\n",
    "\n",
    "print(\"Mejor resultado: %f utilizando los siguientes hiperparámetros %s\" % (gsearch.best_score_, gsearch.best_params_))\n",
    "means = gsearch.cv_results_['mean_test_score']\n",
    "stds = gsearch.cv_results_['std_test_score']\n",
    "params = gsearch.cv_results_['params']\n",
    "# for mean, stdev, param in zip(means, stds, params):\n",
    "#     print(\"%f (%f) with: %r\" % (mean, stdev, param))"
   ]
  },
  {
   "cell_type": "markdown",
   "metadata": {
    "id": "ZK2v_NUVxnoQ"
   },
   "source": [
    "## *8. Evaluación final del modelo*\n",
    "\n"
   ]
  },
  {
   "cell_type": "markdown",
   "metadata": {
    "id": "AtRrC2PXxnoQ"
   },
   "source": [
    "Métricas de evaluación:\n",
    "  * 1. Matriz de confusión\n",
    "  * 2. Coeficiente de Matthews (MCC)\n",
    "\n",
    "  \n",
    "  <div class=\"alert alert-success\">\n",
    "    <b> Entrena el modelo con los hiperparámetros óptimos encontrados en el apartado anterior y realiza las predicciones. </b>\n",
    "</div>\n"
   ]
  },
  {
   "cell_type": "code",
   "execution_count": 73,
   "metadata": {
    "id": "Bp52t8y-xnoQ"
   },
   "outputs": [],
   "source": [
    "\n",
    "modelo_xgb = xgb.XGBClassifier(booster='gbtree', eta=0.3)\n",
    "modelo_xgb.fit(X_train_scaled,y_train)  # Se entrena al modelo RF\n",
    "y_predict = modelo_xgb.predict(X_test_scaled)  # Se calculan las predicciones\n"
   ]
  },
  {
   "cell_type": "markdown",
   "metadata": {
    "id": "GzSzbGSlxnoR"
   },
   "source": [
    "<div class=\"alert alert-success\">\n",
    "    <b> Matriz de Confusión </b>\n",
    "</div>\n"
   ]
  },
  {
   "cell_type": "code",
   "execution_count": 74,
   "metadata": {
    "id": "6rfntY7uxnoR"
   },
   "outputs": [
    {
     "name": "stdout",
     "output_type": "stream",
     "text": [
      "              precision    recall  f1-score   support\n",
      "\n",
      "           0       0.97      0.97      0.97       693\n",
      "           1       0.85      0.86      0.85       152\n",
      "\n",
      "    accuracy                           0.95       845\n",
      "   macro avg       0.91      0.91      0.91       845\n",
      "weighted avg       0.95      0.95      0.95       845\n",
      "\n"
     ]
    }
   ],
   "source": [
    "from sklearn.metrics import confusion_matrix, classification_report\n",
    "\n",
    "confusion_matrix = confusion_matrix(y_test, y_predict)\n",
    "print(classification_report(y_test, y_predict))"
   ]
  },
  {
   "cell_type": "code",
   "execution_count": 75,
   "metadata": {
    "id": "maylepQ-0f4U"
   },
   "outputs": [
    {
     "data": {
      "image/png": "[encoded data removed]",
      "text/plain": [
       "<Figure size 432x288 with 2 Axes>"
      ]
     },
     "metadata": {
      "needs_background": "light"
     },
     "output_type": "display_data"
    }
   ],
   "source": [
    "sns.heatmap(confusion_matrix, annot=True, cmap=\"Blues\")\n",
    "# Set the print options to suppress scientific notation\n",
    "plt.title(\"Matriz de Confusión\")\n",
    "plt.xlabel(\"Etiquetas Predichas\")\n",
    "plt.ylabel(\"Etiquetas Verdaderas\")\n",
    "plt.show()"
   ]
  },
  {
   "cell_type": "markdown",
   "metadata": {
    "id": "jY21S9n1xnoR"
   },
   "source": [
    "<div class=\"alert alert-success\">\n",
    "    <b> Coeficiente de Mathews </b>\n",
    "</div>\n",
    "\n",
    "\n",
    "El MCC utiliza coeficientes de correlación entre -1 y +1. \n",
    "* Coeficiente +1 representa una predicción perfecta\n",
    "* Coeficiente 0 representa una predicción media aleatoria\n",
    "* Coeficiente -1 representa una predicción inversa. "
   ]
  },
  {
   "cell_type": "code",
   "execution_count": 76,
   "metadata": {
    "id": "FZ6ZXOBOxnoR"
   },
   "outputs": [
    {
     "data": {
      "text/plain": [
       "0.8199750299749626"
      ]
     },
     "execution_count": 76,
     "metadata": {},
     "output_type": "execute_result"
    }
   ],
   "source": [
    "from sklearn.metrics import matthews_corrcoef\n",
    "\n",
    "matthews_corrcoef(y_test, y_predict)"
   ]
  },
  {
   "cell_type": "code",
   "execution_count": null,
   "metadata": {
    "id": "DcVcmbw8xnoS"
   },
   "outputs": [],
   "source": []
  },
  {
   "cell_type": "markdown",
   "metadata": {
    "id": "6J69hdOYxnoS"
   },
   "source": [
    "### Probamos ahora con Random Forest"
   ]
  },
  {
   "cell_type": "markdown",
   "metadata": {
    "id": "CpesGZd4xnoS"
   },
   "source": [
    "<div class=\"alert alert-success\">\n",
    "    <b> ¿Qué atributos tienen más peso en el modelo? </b>\n",
    "</div>\n",
    "\n",
    "Para el caso del Random Forest, el atributo más importante para predecir los precios es la generación de carbón, seguido de la generación hidráulica y del mes del año. En la matriz de correlación, el atributo carbón era el que tenía más correlación con la variable clase. "
   ]
  },
  {
   "cell_type": "code",
   "execution_count": 77,
   "metadata": {
    "id": "imFWWnquxnoS"
   },
   "outputs": [],
   "source": [
    "# modelo_final = RandomForestClassifier(max_features='sqrt', min_samples_split=5,  n_estimators=400, class_weight={0:1,1:5})\n",
    "modelo_rf = RandomForestClassifier()\n",
    "modelo_rf.fit(X_train_scaled, y_train)  # Se entrena al modelo RF\n",
    "y_predict = modelo_rf.predict(X_test_scaled)"
   ]
  },
  {
   "cell_type": "code",
   "execution_count": 78,
   "metadata": {
    "id": "oftDcajVxnoS"
   },
   "outputs": [
    {
     "name": "stdout",
     "output_type": "stream",
     "text": [
      "Ranking de importancia de atributos:\n",
      "1. Atributo 8 (0.286244)\n",
      "2. Atributo 9 (0.168374)\n",
      "3. Atributo 7 (0.097231)\n",
      "4. Atributo 1 (0.080868)\n",
      "5. Atributo 2 (0.080122)\n",
      "6. Atributo 5 (0.067354)\n",
      "7. Atributo 4 (0.064407)\n",
      "8. Atributo 0 (0.055119)\n",
      "9. Atributo 3 (0.053781)\n",
      "10. Atributo 6 (0.046501)\n"
     ]
    }
   ],
   "source": [
    "# Imprimir la importancia de cada atributo (Solo si Random forest es seleccionado)\n",
    "importancia_atributos = modelo_rf.feature_importances_\n",
    "\n",
    "# Sort feature importances in descending order\n",
    "indices = np.argsort(importancia_atributos)[::-1]\n",
    "std = np.std([tree.feature_importances_ for tree in modelo_rf.estimators_], axis=0)\n",
    "\n",
    "# Print the feature ranking\n",
    "print(\"Ranking de importancia de atributos:\")\n",
    "for f in range(X_train_scaled.shape[1]):\n",
    "    print(\"%d. Atributo %d (%f)\" % (f + 1, indices[f], importancia_atributos[indices[f]]))\n"
   ]
  },
  {
   "cell_type": "code",
   "execution_count": 79,
   "metadata": {
    "id": "fzcVIHElxnoS"
   },
   "outputs": [
    {
     "data": {
      "image/png": "[encoded data removed]",
      "text/plain": [
       "<Figure size 432x288 with 1 Axes>"
      ]
     },
     "metadata": {
      "needs_background": "light"
     },
     "output_type": "display_data"
    }
   ],
   "source": [
    "\n",
    "\n",
    "# Grafica la importancia de los atributos\n",
    "feature_names = X_train_scaled.columns  # creo una lista con el nombre de las features\n",
    "features = [feature_names[i] for i in indices]  \n",
    "plt.figure()\n",
    "plt.title(\"Feature Importances\")\n",
    "plt.bar(range(X_test_scaled.shape[1]), importancia_atributos[indices], yerr=std[indices], align=\"center\")\n",
    "plt.xticks(range(X_test_scaled.shape[1]), features, rotation=90)\n",
    "plt.xlim([-1, X_test_scaled.shape[1]])\n",
    "plt.show()\n"
   ]
  },
  {
   "cell_type": "markdown",
   "metadata": {
    "id": "_GNp1kgdxnoS"
   },
   "source": [
    "<div class=\"alert alert-success\">\n",
    "    <b> Matriz de Confusión </b>\n",
    "</div>\n"
   ]
  },
  {
   "cell_type": "code",
   "execution_count": 80,
   "metadata": {
    "id": "PMFP7pElxnoS"
   },
   "outputs": [
    {
     "name": "stdout",
     "output_type": "stream",
     "text": [
      "              precision    recall  f1-score   support\n",
      "\n",
      "           0       0.96      0.97      0.97       693\n",
      "           1       0.86      0.83      0.84       152\n",
      "\n",
      "    accuracy                           0.94       845\n",
      "   macro avg       0.91      0.90      0.90       845\n",
      "weighted avg       0.94      0.94      0.94       845\n",
      "\n"
     ]
    }
   ],
   "source": [
    "# Gráfico no normalizado de la martiz de confusión\n",
    "from sklearn.metrics import confusion_matrix, classification_report\n",
    "\n",
    "confusion_matrix_rf = confusion_matrix(y_test, y_predict)\n",
    "print(classification_report(y_test, y_predict))"
   ]
  },
  {
   "cell_type": "code",
   "execution_count": 81,
   "metadata": {
    "id": "Z396d5_k14Fs"
   },
   "outputs": [
    {
     "data": {
      "image/png": "[encoded data removed]",
      "text/plain": [
       "<Figure size 432x288 with 2 Axes>"
      ]
     },
     "metadata": {
      "needs_background": "light"
     },
     "output_type": "display_data"
    }
   ],
   "source": [
    "sns.heatmap(confusion_matrix_rf, annot=True, cmap=\"Blues\")\n",
    "plt.title(\"Matriz de Confusión\")\n",
    "plt.xlabel(\"Etiquetas Predichas\")\n",
    "plt.ylabel(\"Etiquetas Verdaderas\")\n",
    "plt.show()"
   ]
  },
  {
   "cell_type": "markdown",
   "metadata": {
    "id": "7qQG5_GexnoT"
   },
   "source": [
    "<div class=\"alert alert-success\">\n",
    "    <b> Coeficiente de Mathews </b>\n",
    "</div>\n",
    "\n",
    "\n",
    "El MCC utiliza coeficientes de correlación entre -1 y +1. \n",
    "* Coeficiente +1 representa una predicción perfecta\n",
    "* Coeficiente 0 representa una predicción media aleatoria\n",
    "* Coeficiente -1 representa una predicción inversa. "
   ]
  },
  {
   "cell_type": "code",
   "execution_count": 82,
   "metadata": {
    "id": "PSDJItZ6xnoT"
   },
   "outputs": [
    {
     "data": {
      "text/plain": [
       "0.8091992092898692"
      ]
     },
     "execution_count": 82,
     "metadata": {},
     "output_type": "execute_result"
    }
   ],
   "source": [
    "from sklearn.metrics import matthews_corrcoef\n",
    "\n",
    "matthews_corrcoef(y_test, y_predict)"
   ]
  },
  {
   "cell_type": "markdown",
   "metadata": {},
   "source": [
    "<div class=\"alert alert-success\">\n",
    "    <b> ROC  </b>\n",
    "</div>"
   ]
  },
  {
   "cell_type": "markdown",
   "metadata": {},
   "source": [
    "\n",
    "Una técnica ampliamente adoptada para tratar conjuntos de datos muy desequilibrados se denomina remuestreo. Consiste en eliminar muestras de la clase mayoritaria (submuestreo) y/o añadir más ejemplos de la clase minoritaria (sobremuestreo).\n",
    "\n",
    "<img src=\"https://raw.githubusercontent.com/sbarja/smart-energy-22-23/main/Figures/roc-auc.png\" alt=\"Drawing\" style=\"width: 800px;\"/>\n",
    "\n"
   ]
  },
  {
   "cell_type": "code",
   "execution_count": 83,
   "metadata": {
    "id": "YwO5GF6ExnoT"
   },
   "outputs": [
    {
     "data": {
      "image/png": "[encoded data removed]",
      "text/plain": [
       "<Figure size 432x288 with 1 Axes>"
      ]
     },
     "metadata": {
      "needs_background": "light"
     },
     "output_type": "display_data"
    }
   ],
   "source": [
    "from sklearn.metrics import roc_curve, roc_auc_score\n",
    "\n",
    "# False positive rate, True positive rate\n",
    "fpr, tpr, thresholds = roc_curve(y_test, y_predict)\n",
    "auc = roc_auc_score(y_test, y_predict)\n",
    "\n",
    "plt.plot(fpr, tpr, label='ROC curve (AUC = {:.2f})'.format(auc))\n",
    "plt.plot([0, 1], [0, 1], 'r--', label='Random Classifier')\n",
    "plt.title('ROC Curve')\n",
    "plt.xlabel('False Positive Rate')\n",
    "plt.ylabel('True Positive Rate')\n",
    "plt.xlim([0, 1])\n",
    "plt.ylim([0, 1])\n",
    "plt.legend()\n",
    "plt.show()"
   ]
  },
  {
   "cell_type": "code",
   "execution_count": null,
   "metadata": {},
   "outputs": [],
   "source": []
  }
 ],
 "metadata": {
  "colab": {
   "provenance": [
    {
     "file_id": "https://github.com/sbarja/curso-intro-machine-learning-2023/blob/main/EJ3-clasificacion-precios.ipynb",
     "timestamp": 1681913321068
    }
   ]
  },
  "kernelspec": {
   "display_name": "Python 3 (ipykernel)",
   "language": "python",
   "name": "python3"
  },
  "language_info": {
   "codemirror_mode": {
    "name": "ipython",
    "version": 3
   },
   "file_extension": ".py",
   "mimetype": "text/x-python",
   "name": "python",
   "nbconvert_exporter": "python",
   "pygments_lexer": "ipython3",
   "version": "3.9.12"
  }
 },
 "nbformat": 4,
 "nbformat_minor": 1
}
