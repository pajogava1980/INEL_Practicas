{
 "cells": [
  {
   "cell_type": "markdown",
   "id": "c883fe24",
   "metadata": {
    "slideshow": {
     "slide_type": "slide"
    }
   },
   "source": [
    "<img src=\"https://raw.githubusercontent.com/pelaokano/inel_ML/main/Modulo4/logo_inel.png\">\n",
    "<h1 align=\"center\">Machine Learning Aplicado a la Ingeniería Eléctrica</h1>\n",
    "\n",
    "<h2 align=\"center\">Modulo 5: Algoritmos Con Entrenamiento Supervisado: Regresión</h2>\n",
    "\n",
    "<h3 align=\"center\">Innstructor: Adrian Alarcón Becerra</h3>"
   ]
  },
  {
   "cell_type": "markdown",
   "id": "a38d3d23",
   "metadata": {
    "slideshow": {
     "slide_type": "slide"
    }
   },
   "source": [
    "<img src=\"https://raw.githubusercontent.com/pelaokano/inel_ML/main/Modulo5/imagenes/pp27.JPG\">"
   ]
  },
  {
   "cell_type": "markdown",
   "id": "971f4de1",
   "metadata": {
    "slideshow": {
     "slide_type": "slide"
    }
   },
   "source": [
    "<img src=\"https://raw.githubusercontent.com/pelaokano/inel_ML/main/Modulo5/imagenes/pp28.JPG\">"
   ]
  },
  {
   "cell_type": "markdown",
   "id": "0eacf55f",
   "metadata": {
    "slideshow": {
     "slide_type": "slide"
    }
   },
   "source": [
    "<img src=\"https://raw.githubusercontent.com/pelaokano/inel_ML/main/Modulo5/imagenes/pp29.JPG\">"
   ]
  },
  {
   "cell_type": "markdown",
   "id": "db73ea85",
   "metadata": {
    "slideshow": {
     "slide_type": "slide"
    }
   },
   "source": [
    "<img src=\"https://raw.githubusercontent.com/pelaokano/inel_ML/main/Modulo5/imagenes/pp30.JPG\">"
   ]
  },
  {
   "cell_type": "markdown",
   "id": "5e069c85",
   "metadata": {
    "slideshow": {
     "slide_type": "slide"
    }
   },
   "source": [
    "<img src=\"https://raw.githubusercontent.com/pelaokano/inel_ML/main/Modulo5/imagenes/pp31.JPG\">"
   ]
  },
  {
   "cell_type": "markdown",
   "id": "5cb44cf3",
   "metadata": {
    "slideshow": {
     "slide_type": "slide"
    }
   },
   "source": [
    "<img src=\"https://raw.githubusercontent.com/pelaokano/inel_ML/main/Modulo5/imagenes/pp32.JPG\">"
   ]
  },
  {
   "cell_type": "markdown",
   "id": "93437e07",
   "metadata": {
    "slideshow": {
     "slide_type": "slide"
    }
   },
   "source": [
    "<img src=\"https://raw.githubusercontent.com/pelaokano/inel_ML/main/Modulo5/imagenes/pp33.JPG\">"
   ]
  },
  {
   "cell_type": "markdown",
   "id": "0698c151",
   "metadata": {
    "slideshow": {
     "slide_type": "slide"
    }
   },
   "source": [
    "<img src=\"https://raw.githubusercontent.com/pelaokano/inel_ML/main/Modulo5/imagenes/pp34.JPG\">"
   ]
  },
  {
   "cell_type": "markdown",
   "id": "cff93717",
   "metadata": {
    "slideshow": {
     "slide_type": "slide"
    }
   },
   "source": [
    "<img src=\"https://raw.githubusercontent.com/pelaokano/inel_ML/main/Modulo5/imagenes/pp35.JPG\">"
   ]
  },
  {
   "cell_type": "markdown",
   "id": "5afa312b",
   "metadata": {
    "slideshow": {
     "slide_type": "slide"
    }
   },
   "source": [
    "<img src=\"https://raw.githubusercontent.com/pelaokano/inel_ML/main/Modulo5/imagenes/pp36.JPG\">"
   ]
  },
  {
   "cell_type": "markdown",
   "id": "2ca1f31a",
   "metadata": {
    "slideshow": {
     "slide_type": "slide"
    }
   },
   "source": [
    "<img src=\"https://raw.githubusercontent.com/pelaokano/inel_ML/main/Modulo5/imagenes/pp37.JPG\">"
   ]
  },
  {
   "cell_type": "markdown",
   "id": "82bc658f",
   "metadata": {
    "slideshow": {
     "slide_type": "slide"
    }
   },
   "source": [
    "<img src=\"https://raw.githubusercontent.com/pelaokano/inel_ML/main/Modulo5/imagenes/pp38.JPG\">"
   ]
  },
  {
   "cell_type": "markdown",
   "id": "cb7c4b6f",
   "metadata": {
    "slideshow": {
     "slide_type": "slide"
    }
   },
   "source": [
    "<img src=\"https://raw.githubusercontent.com/pelaokano/inel_ML/main/Modulo5/imagenes/pp39.JPG\">"
   ]
  },
  {
   "cell_type": "markdown",
   "id": "a4bfb4a5",
   "metadata": {
    "slideshow": {
     "slide_type": "slide"
    }
   },
   "source": [
    "<img src=\"https://raw.githubusercontent.com/pelaokano/inel_ML/main/Modulo5/imagenes/pp40.JPG\">"
   ]
  },
  {
   "cell_type": "markdown",
   "id": "54c2656f",
   "metadata": {
    "slideshow": {
     "slide_type": "slide"
    }
   },
   "source": [
    "<img src=\"https://raw.githubusercontent.com/pelaokano/inel_ML/main/Modulo5/imagenes/pp41.JPG\">"
   ]
  },
  {
   "cell_type": "markdown",
   "id": "ca9730e8",
   "metadata": {
    "slideshow": {
     "slide_type": "slide"
    }
   },
   "source": [
    "<img src=\"https://raw.githubusercontent.com/pelaokano/inel_ML/main/Modulo5/imagenes/pp42.JPG\">"
   ]
  },
  {
   "cell_type": "markdown",
   "id": "9e32b90d",
   "metadata": {
    "slideshow": {
     "slide_type": "slide"
    }
   },
   "source": [
    "<img src=\"https://raw.githubusercontent.com/pelaokano/inel_ML/main/Modulo5/imagenes/pp43.JPG\">"
   ]
  },
  {
   "cell_type": "markdown",
   "id": "4eb95fda",
   "metadata": {
    "slideshow": {
     "slide_type": "slide"
    }
   },
   "source": [
    "<img src=\"https://raw.githubusercontent.com/pelaokano/inel_ML/main/Modulo5/imagenes/pp26.JPG\">"
   ]
  },
  {
   "cell_type": "code",
   "execution_count": null,
   "id": "9d188ba5",
   "metadata": {},
   "outputs": [],
   "source": []
  }
 ],
 "metadata": {
  "celltoolbar": "Slideshow",
  "kernelspec": {
   "display_name": "Python 3 (ipykernel)",
   "language": "python",
   "name": "python3"
  },
  "language_info": {
   "codemirror_mode": {
    "name": "ipython",
    "version": 3
   },
   "file_extension": ".py",
   "mimetype": "text/x-python",
   "name": "python",
   "nbconvert_exporter": "python",
   "pygments_lexer": "ipython3",
   "version": "3.9.12"
  },
  "rise": {
   "theme": "serif"
  }
 },
 "nbformat": 4,
 "nbformat_minor": 5
}
